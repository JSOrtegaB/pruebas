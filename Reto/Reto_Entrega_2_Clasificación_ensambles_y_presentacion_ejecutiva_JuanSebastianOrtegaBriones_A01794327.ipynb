{
  "cells": [
    {
      "cell_type": "markdown",
      "metadata": {
        "id": "view-in-github",
        "colab_type": "text"
      },
      "source": [
        "<a href=\"https://colab.research.google.com/github/JSOrtegaB/pruebas/blob/main/Reto/Reto_Entrega_2_Clasificaci%C3%B3n_ensambles_y_presentacion_ejecutiva_JuanSebastianOrtegaBriones_A01794327.ipynb\" target=\"_parent\"><img src=\"https://colab.research.google.com/assets/colab-badge.svg\" alt=\"Open In Colab\"/></a>"
      ]
    },
    {
      "cell_type": "markdown",
      "source": [
        "![download.png](data:image/png;base64,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)"
      ],
      "metadata": {
        "id": "IZekAWkD0eyf"
      }
    },
    {
      "cell_type": "markdown",
      "metadata": {
        "id": "oSHqCg_N0S0v"
      },
      "source": [
        "# Reto: Parte 2 Clasificación-ensambles y presentación ejecutiva\n",
        "## Ciencia y analítica de datos\n",
        "### Profesor: María de la Paz Rico Fernández\n",
        "### Juan Sebastián Ortega Briones A01794327\n",
        "### Equipo 13\n",
        "**18 de Noviembre del 2022**"
      ]
    },
    {
      "cell_type": "code",
      "execution_count": 27,
      "metadata": {
        "id": "6XmTtqTWHfJP"
      },
      "outputs": [],
      "source": [
        "import pandas as pd\n",
        "import numpy as np\n",
        "import matplotlib.pyplot as plt\n",
        "import matplotlib.colors as color\n",
        "import seaborn as sns\n",
        "%matplotlib inline"
      ]
    },
    {
      "cell_type": "code",
      "execution_count": 28,
      "metadata": {
        "id": "qWH8okiL0S0y"
      },
      "outputs": [],
      "source": [
        "pd.set_option(\"display.max_columns\", 57)\n",
        "pd.set_option(\"display.max_rows\", 100)"
      ]
    },
    {
      "cell_type": "markdown",
      "metadata": {
        "id": "tx6vuCFc0S0y"
      },
      "source": [
        "**Uso de Base de datos de Aguas Subterraneas**"
      ]
    },
    {
      "cell_type": "code",
      "execution_count": 29,
      "metadata": {
        "id": "YHP2ZC-p0S0z"
      },
      "outputs": [],
      "source": [
        "df=pd.read_csv(\"https://raw.githubusercontent.com/PosgradoMNA/actividades-del-projecto-equipo-13/main/Reto/Datos_de_calidad_del_agua_de_sitios_de_monitoreo_de_aguas_subterraneas_2020.csv\", encoding = 'ISO-8859-1')  #Importa datos de Aguas subterraneas"
      ]
    },
    {
      "cell_type": "code",
      "execution_count": 30,
      "metadata": {
        "colab": {
          "base_uri": "https://localhost:8080/",
          "height": 392
        },
        "id": "QopsFFXi0S0z",
        "outputId": "68086552-2150-45be-864d-6d31e6db5a26"
      },
      "outputs": [
        {
          "output_type": "execute_result",
          "data": {
            "text/plain": [
              "       CLAVE                   SITIO           ORGANISMO_DE_CUENCA  \\\n",
              "0     DLAGU6            POZO SAN GIL       LERMA SANTIAGO PACIFICO   \n",
              "1  DLAGU6516  POZO R013 CAÑADA HONDA       LERMA SANTIAGO PACIFICO   \n",
              "2     DLAGU7              POZO COSIO       LERMA SANTIAGO PACIFICO   \n",
              "3     DLAGU9      POZO EL SALITRILLO       LERMA SANTIAGO PACIFICO   \n",
              "4   DLBAJ107      RANCHO EL TECOLOTE  PENINSULA DE BAJA CALIFORNIA   \n",
              "\n",
              "                ESTADO        MUNICIPIO                 ACUIFERO SUBTIPO  \\\n",
              "0       AGUASCALIENTES         ASIENTOS       VALLE DE CHICALOTE    POZO   \n",
              "1       AGUASCALIENTES   AGUASCALIENTES       VALLE DE CHICALOTE    POZO   \n",
              "2       AGUASCALIENTES            COSIO  VALLE DE AGUASCALIENTES    POZO   \n",
              "3       AGUASCALIENTES  RINCON DE ROMOS  VALLE DE AGUASCALIENTES    POZO   \n",
              "4  BAJA CALIFORNIA SUR           LA PAZ             TODOS SANTOS    POZO   \n",
              "\n",
              "    LONGITUD   LATITUD  PERIODO  ALC_mg/L CALIDAD_ALC  CONDUCT_mS/cm  \\\n",
              "0 -102.02210  22.20887     2020   229.990        Alta          940.0   \n",
              "1 -102.20075  21.99958     2020   231.990        Alta          608.0   \n",
              "2 -102.28801  22.36685     2020   204.920        Alta          532.0   \n",
              "3 -102.29449  22.18435     2020   327.000        Alta          686.0   \n",
              "4 -110.24480  23.45138     2020   309.885        Alta         1841.0   \n",
              "\n",
              "          CALIDAD_CONDUC  SDT_mg/L SDT_M_mg/L                CALIDAD_SDT_ra  \\\n",
              "0  Permisible para riego       NaN      603.6            Cultivos sensibles   \n",
              "1       Buena para riego       NaN      445.4          Excelente para riego   \n",
              "2       Buena para riego       NaN        342          Excelente para riego   \n",
              "3       Buena para riego       NaN      478.6          Excelente para riego   \n",
              "4  Permisible para riego       NaN       1179  Cultivos con manejo especial   \n",
              "\n",
              "      CALIDAD_SDT_salin FLUORUROS_mg/L      CALIDAD_FLUO  DUR_mg/L  \\\n",
              "0       Potable - Dulce         0.9766  Potable - Optima   213.732   \n",
              "1       Potable - Dulce         0.9298  Potable - Optima  185.0514   \n",
              "2       Potable - Dulce         1.8045              Alta   120.719   \n",
              "3       Potable - Dulce         1.1229  Potable - Optima   199.879   \n",
              "4  Ligeramente salobres         0.2343              Baja  476.9872   \n",
              "\n",
              "      CALIDAD_DUR COLI_FEC_NMP/100_mL     CALIDAD_COLI_FEC N_NO3_mg/L  \\\n",
              "0  Potable - Dura                <1.1  Potable - Excelente   4.184656   \n",
              "1  Potable - Dura                <1.1  Potable - Excelente    5.75011   \n",
              "2  Potable - Dura                <1.1  Potable - Excelente   1.449803   \n",
              "3  Potable - Dura                <1.1  Potable - Excelente   1.258597   \n",
              "4  Potable - Dura                 291            Aceptable  15.672251   \n",
              "\n",
              "             CALIDAD_N_NO3 AS_TOT_mg/L           CALIDAD_AS CD_TOT_mg/L  \\\n",
              "0      Potable - Excelente      0.0161       Apta como FAAP      <0.003   \n",
              "1  Potable - Buena calidad      0.0134       Apta como FAAP      <0.003   \n",
              "2      Potable - Excelente       0.037    No apta como FAAP      <0.003   \n",
              "3      Potable - Excelente      0.0154       Apta como FAAP      <0.003   \n",
              "4        No apta como FAAP       <0.01  Potable - Excelente      <0.003   \n",
              "\n",
              "            CALIDAD_CD CR_TOT_mg/L           CALIDAD_CR HG_TOT_mg/L  \\\n",
              "0  Potable - Excelente      <0.005  Potable - Excelente     <0.0005   \n",
              "1  Potable - Excelente      <0.005  Potable - Excelente     <0.0005   \n",
              "2  Potable - Excelente      <0.005  Potable - Excelente     <0.0005   \n",
              "3  Potable - Excelente       0.005  Potable - Excelente     <0.0005   \n",
              "4  Potable - Excelente      <0.005  Potable - Excelente     <0.0005   \n",
              "\n",
              "            CALIDAD_HG PB_TOT_mg/L           CALIDAD_PB MN_TOT_mg/L  \\\n",
              "0  Potable - Excelente      <0.005  Potable - Excelente     <0.0015   \n",
              "1  Potable - Excelente      <0.005  Potable - Excelente     <0.0015   \n",
              "2  Potable - Excelente      <0.005  Potable - Excelente     <0.0015   \n",
              "3  Potable - Excelente      <0.005  Potable - Excelente     <0.0015   \n",
              "4  Potable - Excelente      <0.005  Potable - Excelente     <0.0015   \n",
              "\n",
              "            CALIDAD_MN FE_TOT_mg/L           CALIDAD_FE SEMAFORO  \\\n",
              "0  Potable - Excelente      0.0891  Potable - Excelente    Verde   \n",
              "1  Potable - Excelente      <0.025  Potable - Excelente    Verde   \n",
              "2  Potable - Excelente      <0.025  Potable - Excelente     Rojo   \n",
              "3  Potable - Excelente      <0.025  Potable - Excelente    Verde   \n",
              "4  Potable - Excelente      <0.025  Potable - Excelente     Rojo   \n",
              "\n",
              "  CONTAMINANTES CUMPLE_CON_ALC CUMPLE_CON_COND CUMPLE_CON_SDT_ra  \\\n",
              "0           NaN             SI              SI                SI   \n",
              "1           NaN             SI              SI                SI   \n",
              "2      FLUO,AS,             SI              SI                SI   \n",
              "3           NaN             SI              SI                SI   \n",
              "4          NO3,             SI              SI                SI   \n",
              "\n",
              "  CUMPLE_CON_SDT_salin CUMPLE_CON_FLUO CUMPLE_CON_DUR CUMPLE_CON_CF  \\\n",
              "0                   SI              SI             SI            SI   \n",
              "1                   SI              SI             SI            SI   \n",
              "2                   SI              NO             SI            SI   \n",
              "3                   SI              SI             SI            SI   \n",
              "4                   SI              SI             SI            SI   \n",
              "\n",
              "  CUMPLE_CON_NO3 CUMPLE_CON_AS CUMPLE_CON_CD CUMPLE_CON_CR CUMPLE_CON_HG  \\\n",
              "0             SI            SI            SI            SI            SI   \n",
              "1             SI            SI            SI            SI            SI   \n",
              "2             SI            NO            SI            SI            SI   \n",
              "3             SI            SI            SI            SI            SI   \n",
              "4             NO            SI            SI            SI            SI   \n",
              "\n",
              "  CUMPLE_CON_PB CUMPLE_CON_MN CUMPLE_CON_FE  \n",
              "0            SI            SI            SI  \n",
              "1            SI            SI            SI  \n",
              "2            SI            SI            SI  \n",
              "3            SI            SI            SI  \n",
              "4            SI            SI            SI  "
            ],
            "text/html": [
              "\n",
              "  <div id=\"df-fe9eb97a-a6a7-4ff0-b9ea-79db6ede3df2\">\n",
              "    <div class=\"colab-df-container\">\n",
              "      <div>\n",
              "<style scoped>\n",
              "    .dataframe tbody tr th:only-of-type {\n",
              "        vertical-align: middle;\n",
              "    }\n",
              "\n",
              "    .dataframe tbody tr th {\n",
              "        vertical-align: top;\n",
              "    }\n",
              "\n",
              "    .dataframe thead th {\n",
              "        text-align: right;\n",
              "    }\n",
              "</style>\n",
              "<table border=\"1\" class=\"dataframe\">\n",
              "  <thead>\n",
              "    <tr style=\"text-align: right;\">\n",
              "      <th></th>\n",
              "      <th>CLAVE</th>\n",
              "      <th>SITIO</th>\n",
              "      <th>ORGANISMO_DE_CUENCA</th>\n",
              "      <th>ESTADO</th>\n",
              "      <th>MUNICIPIO</th>\n",
              "      <th>ACUIFERO</th>\n",
              "      <th>SUBTIPO</th>\n",
              "      <th>LONGITUD</th>\n",
              "      <th>LATITUD</th>\n",
              "      <th>PERIODO</th>\n",
              "      <th>ALC_mg/L</th>\n",
              "      <th>CALIDAD_ALC</th>\n",
              "      <th>CONDUCT_mS/cm</th>\n",
              "      <th>CALIDAD_CONDUC</th>\n",
              "      <th>SDT_mg/L</th>\n",
              "      <th>SDT_M_mg/L</th>\n",
              "      <th>CALIDAD_SDT_ra</th>\n",
              "      <th>CALIDAD_SDT_salin</th>\n",
              "      <th>FLUORUROS_mg/L</th>\n",
              "      <th>CALIDAD_FLUO</th>\n",
              "      <th>DUR_mg/L</th>\n",
              "      <th>CALIDAD_DUR</th>\n",
              "      <th>COLI_FEC_NMP/100_mL</th>\n",
              "      <th>CALIDAD_COLI_FEC</th>\n",
              "      <th>N_NO3_mg/L</th>\n",
              "      <th>CALIDAD_N_NO3</th>\n",
              "      <th>AS_TOT_mg/L</th>\n",
              "      <th>CALIDAD_AS</th>\n",
              "      <th>CD_TOT_mg/L</th>\n",
              "      <th>CALIDAD_CD</th>\n",
              "      <th>CR_TOT_mg/L</th>\n",
              "      <th>CALIDAD_CR</th>\n",
              "      <th>HG_TOT_mg/L</th>\n",
              "      <th>CALIDAD_HG</th>\n",
              "      <th>PB_TOT_mg/L</th>\n",
              "      <th>CALIDAD_PB</th>\n",
              "      <th>MN_TOT_mg/L</th>\n",
              "      <th>CALIDAD_MN</th>\n",
              "      <th>FE_TOT_mg/L</th>\n",
              "      <th>CALIDAD_FE</th>\n",
              "      <th>SEMAFORO</th>\n",
              "      <th>CONTAMINANTES</th>\n",
              "      <th>CUMPLE_CON_ALC</th>\n",
              "      <th>CUMPLE_CON_COND</th>\n",
              "      <th>CUMPLE_CON_SDT_ra</th>\n",
              "      <th>CUMPLE_CON_SDT_salin</th>\n",
              "      <th>CUMPLE_CON_FLUO</th>\n",
              "      <th>CUMPLE_CON_DUR</th>\n",
              "      <th>CUMPLE_CON_CF</th>\n",
              "      <th>CUMPLE_CON_NO3</th>\n",
              "      <th>CUMPLE_CON_AS</th>\n",
              "      <th>CUMPLE_CON_CD</th>\n",
              "      <th>CUMPLE_CON_CR</th>\n",
              "      <th>CUMPLE_CON_HG</th>\n",
              "      <th>CUMPLE_CON_PB</th>\n",
              "      <th>CUMPLE_CON_MN</th>\n",
              "      <th>CUMPLE_CON_FE</th>\n",
              "    </tr>\n",
              "  </thead>\n",
              "  <tbody>\n",
              "    <tr>\n",
              "      <th>0</th>\n",
              "      <td>DLAGU6</td>\n",
              "      <td>POZO SAN GIL</td>\n",
              "      <td>LERMA SANTIAGO PACIFICO</td>\n",
              "      <td>AGUASCALIENTES</td>\n",
              "      <td>ASIENTOS</td>\n",
              "      <td>VALLE DE CHICALOTE</td>\n",
              "      <td>POZO</td>\n",
              "      <td>-102.02210</td>\n",
              "      <td>22.20887</td>\n",
              "      <td>2020</td>\n",
              "      <td>229.990</td>\n",
              "      <td>Alta</td>\n",
              "      <td>940.0</td>\n",
              "      <td>Permisible para riego</td>\n",
              "      <td>NaN</td>\n",
              "      <td>603.6</td>\n",
              "      <td>Cultivos sensibles</td>\n",
              "      <td>Potable - Dulce</td>\n",
              "      <td>0.9766</td>\n",
              "      <td>Potable - Optima</td>\n",
              "      <td>213.732</td>\n",
              "      <td>Potable - Dura</td>\n",
              "      <td>&lt;1.1</td>\n",
              "      <td>Potable - Excelente</td>\n",
              "      <td>4.184656</td>\n",
              "      <td>Potable - Excelente</td>\n",
              "      <td>0.0161</td>\n",
              "      <td>Apta como FAAP</td>\n",
              "      <td>&lt;0.003</td>\n",
              "      <td>Potable - Excelente</td>\n",
              "      <td>&lt;0.005</td>\n",
              "      <td>Potable - Excelente</td>\n",
              "      <td>&lt;0.0005</td>\n",
              "      <td>Potable - Excelente</td>\n",
              "      <td>&lt;0.005</td>\n",
              "      <td>Potable - Excelente</td>\n",
              "      <td>&lt;0.0015</td>\n",
              "      <td>Potable - Excelente</td>\n",
              "      <td>0.0891</td>\n",
              "      <td>Potable - Excelente</td>\n",
              "      <td>Verde</td>\n",
              "      <td>NaN</td>\n",
              "      <td>SI</td>\n",
              "      <td>SI</td>\n",
              "      <td>SI</td>\n",
              "      <td>SI</td>\n",
              "      <td>SI</td>\n",
              "      <td>SI</td>\n",
              "      <td>SI</td>\n",
              "      <td>SI</td>\n",
              "      <td>SI</td>\n",
              "      <td>SI</td>\n",
              "      <td>SI</td>\n",
              "      <td>SI</td>\n",
              "      <td>SI</td>\n",
              "      <td>SI</td>\n",
              "      <td>SI</td>\n",
              "    </tr>\n",
              "    <tr>\n",
              "      <th>1</th>\n",
              "      <td>DLAGU6516</td>\n",
              "      <td>POZO R013 CAÑADA HONDA</td>\n",
              "      <td>LERMA SANTIAGO PACIFICO</td>\n",
              "      <td>AGUASCALIENTES</td>\n",
              "      <td>AGUASCALIENTES</td>\n",
              "      <td>VALLE DE CHICALOTE</td>\n",
              "      <td>POZO</td>\n",
              "      <td>-102.20075</td>\n",
              "      <td>21.99958</td>\n",
              "      <td>2020</td>\n",
              "      <td>231.990</td>\n",
              "      <td>Alta</td>\n",
              "      <td>608.0</td>\n",
              "      <td>Buena para riego</td>\n",
              "      <td>NaN</td>\n",
              "      <td>445.4</td>\n",
              "      <td>Excelente para riego</td>\n",
              "      <td>Potable - Dulce</td>\n",
              "      <td>0.9298</td>\n",
              "      <td>Potable - Optima</td>\n",
              "      <td>185.0514</td>\n",
              "      <td>Potable - Dura</td>\n",
              "      <td>&lt;1.1</td>\n",
              "      <td>Potable - Excelente</td>\n",
              "      <td>5.75011</td>\n",
              "      <td>Potable - Buena calidad</td>\n",
              "      <td>0.0134</td>\n",
              "      <td>Apta como FAAP</td>\n",
              "      <td>&lt;0.003</td>\n",
              "      <td>Potable - Excelente</td>\n",
              "      <td>&lt;0.005</td>\n",
              "      <td>Potable - Excelente</td>\n",
              "      <td>&lt;0.0005</td>\n",
              "      <td>Potable - Excelente</td>\n",
              "      <td>&lt;0.005</td>\n",
              "      <td>Potable - Excelente</td>\n",
              "      <td>&lt;0.0015</td>\n",
              "      <td>Potable - Excelente</td>\n",
              "      <td>&lt;0.025</td>\n",
              "      <td>Potable - Excelente</td>\n",
              "      <td>Verde</td>\n",
              "      <td>NaN</td>\n",
              "      <td>SI</td>\n",
              "      <td>SI</td>\n",
              "      <td>SI</td>\n",
              "      <td>SI</td>\n",
              "      <td>SI</td>\n",
              "      <td>SI</td>\n",
              "      <td>SI</td>\n",
              "      <td>SI</td>\n",
              "      <td>SI</td>\n",
              "      <td>SI</td>\n",
              "      <td>SI</td>\n",
              "      <td>SI</td>\n",
              "      <td>SI</td>\n",
              "      <td>SI</td>\n",
              "      <td>SI</td>\n",
              "    </tr>\n",
              "    <tr>\n",
              "      <th>2</th>\n",
              "      <td>DLAGU7</td>\n",
              "      <td>POZO COSIO</td>\n",
              "      <td>LERMA SANTIAGO PACIFICO</td>\n",
              "      <td>AGUASCALIENTES</td>\n",
              "      <td>COSIO</td>\n",
              "      <td>VALLE DE AGUASCALIENTES</td>\n",
              "      <td>POZO</td>\n",
              "      <td>-102.28801</td>\n",
              "      <td>22.36685</td>\n",
              "      <td>2020</td>\n",
              "      <td>204.920</td>\n",
              "      <td>Alta</td>\n",
              "      <td>532.0</td>\n",
              "      <td>Buena para riego</td>\n",
              "      <td>NaN</td>\n",
              "      <td>342</td>\n",
              "      <td>Excelente para riego</td>\n",
              "      <td>Potable - Dulce</td>\n",
              "      <td>1.8045</td>\n",
              "      <td>Alta</td>\n",
              "      <td>120.719</td>\n",
              "      <td>Potable - Dura</td>\n",
              "      <td>&lt;1.1</td>\n",
              "      <td>Potable - Excelente</td>\n",
              "      <td>1.449803</td>\n",
              "      <td>Potable - Excelente</td>\n",
              "      <td>0.037</td>\n",
              "      <td>No apta como FAAP</td>\n",
              "      <td>&lt;0.003</td>\n",
              "      <td>Potable - Excelente</td>\n",
              "      <td>&lt;0.005</td>\n",
              "      <td>Potable - Excelente</td>\n",
              "      <td>&lt;0.0005</td>\n",
              "      <td>Potable - Excelente</td>\n",
              "      <td>&lt;0.005</td>\n",
              "      <td>Potable - Excelente</td>\n",
              "      <td>&lt;0.0015</td>\n",
              "      <td>Potable - Excelente</td>\n",
              "      <td>&lt;0.025</td>\n",
              "      <td>Potable - Excelente</td>\n",
              "      <td>Rojo</td>\n",
              "      <td>FLUO,AS,</td>\n",
              "      <td>SI</td>\n",
              "      <td>SI</td>\n",
              "      <td>SI</td>\n",
              "      <td>SI</td>\n",
              "      <td>NO</td>\n",
              "      <td>SI</td>\n",
              "      <td>SI</td>\n",
              "      <td>SI</td>\n",
              "      <td>NO</td>\n",
              "      <td>SI</td>\n",
              "      <td>SI</td>\n",
              "      <td>SI</td>\n",
              "      <td>SI</td>\n",
              "      <td>SI</td>\n",
              "      <td>SI</td>\n",
              "    </tr>\n",
              "    <tr>\n",
              "      <th>3</th>\n",
              "      <td>DLAGU9</td>\n",
              "      <td>POZO EL SALITRILLO</td>\n",
              "      <td>LERMA SANTIAGO PACIFICO</td>\n",
              "      <td>AGUASCALIENTES</td>\n",
              "      <td>RINCON DE ROMOS</td>\n",
              "      <td>VALLE DE AGUASCALIENTES</td>\n",
              "      <td>POZO</td>\n",
              "      <td>-102.29449</td>\n",
              "      <td>22.18435</td>\n",
              "      <td>2020</td>\n",
              "      <td>327.000</td>\n",
              "      <td>Alta</td>\n",
              "      <td>686.0</td>\n",
              "      <td>Buena para riego</td>\n",
              "      <td>NaN</td>\n",
              "      <td>478.6</td>\n",
              "      <td>Excelente para riego</td>\n",
              "      <td>Potable - Dulce</td>\n",
              "      <td>1.1229</td>\n",
              "      <td>Potable - Optima</td>\n",
              "      <td>199.879</td>\n",
              "      <td>Potable - Dura</td>\n",
              "      <td>&lt;1.1</td>\n",
              "      <td>Potable - Excelente</td>\n",
              "      <td>1.258597</td>\n",
              "      <td>Potable - Excelente</td>\n",
              "      <td>0.0154</td>\n",
              "      <td>Apta como FAAP</td>\n",
              "      <td>&lt;0.003</td>\n",
              "      <td>Potable - Excelente</td>\n",
              "      <td>0.005</td>\n",
              "      <td>Potable - Excelente</td>\n",
              "      <td>&lt;0.0005</td>\n",
              "      <td>Potable - Excelente</td>\n",
              "      <td>&lt;0.005</td>\n",
              "      <td>Potable - Excelente</td>\n",
              "      <td>&lt;0.0015</td>\n",
              "      <td>Potable - Excelente</td>\n",
              "      <td>&lt;0.025</td>\n",
              "      <td>Potable - Excelente</td>\n",
              "      <td>Verde</td>\n",
              "      <td>NaN</td>\n",
              "      <td>SI</td>\n",
              "      <td>SI</td>\n",
              "      <td>SI</td>\n",
              "      <td>SI</td>\n",
              "      <td>SI</td>\n",
              "      <td>SI</td>\n",
              "      <td>SI</td>\n",
              "      <td>SI</td>\n",
              "      <td>SI</td>\n",
              "      <td>SI</td>\n",
              "      <td>SI</td>\n",
              "      <td>SI</td>\n",
              "      <td>SI</td>\n",
              "      <td>SI</td>\n",
              "      <td>SI</td>\n",
              "    </tr>\n",
              "    <tr>\n",
              "      <th>4</th>\n",
              "      <td>DLBAJ107</td>\n",
              "      <td>RANCHO EL TECOLOTE</td>\n",
              "      <td>PENINSULA DE BAJA CALIFORNIA</td>\n",
              "      <td>BAJA CALIFORNIA SUR</td>\n",
              "      <td>LA PAZ</td>\n",
              "      <td>TODOS SANTOS</td>\n",
              "      <td>POZO</td>\n",
              "      <td>-110.24480</td>\n",
              "      <td>23.45138</td>\n",
              "      <td>2020</td>\n",
              "      <td>309.885</td>\n",
              "      <td>Alta</td>\n",
              "      <td>1841.0</td>\n",
              "      <td>Permisible para riego</td>\n",
              "      <td>NaN</td>\n",
              "      <td>1179</td>\n",
              "      <td>Cultivos con manejo especial</td>\n",
              "      <td>Ligeramente salobres</td>\n",
              "      <td>0.2343</td>\n",
              "      <td>Baja</td>\n",
              "      <td>476.9872</td>\n",
              "      <td>Potable - Dura</td>\n",
              "      <td>291</td>\n",
              "      <td>Aceptable</td>\n",
              "      <td>15.672251</td>\n",
              "      <td>No apta como FAAP</td>\n",
              "      <td>&lt;0.01</td>\n",
              "      <td>Potable - Excelente</td>\n",
              "      <td>&lt;0.003</td>\n",
              "      <td>Potable - Excelente</td>\n",
              "      <td>&lt;0.005</td>\n",
              "      <td>Potable - Excelente</td>\n",
              "      <td>&lt;0.0005</td>\n",
              "      <td>Potable - Excelente</td>\n",
              "      <td>&lt;0.005</td>\n",
              "      <td>Potable - Excelente</td>\n",
              "      <td>&lt;0.0015</td>\n",
              "      <td>Potable - Excelente</td>\n",
              "      <td>&lt;0.025</td>\n",
              "      <td>Potable - Excelente</td>\n",
              "      <td>Rojo</td>\n",
              "      <td>NO3,</td>\n",
              "      <td>SI</td>\n",
              "      <td>SI</td>\n",
              "      <td>SI</td>\n",
              "      <td>SI</td>\n",
              "      <td>SI</td>\n",
              "      <td>SI</td>\n",
              "      <td>SI</td>\n",
              "      <td>NO</td>\n",
              "      <td>SI</td>\n",
              "      <td>SI</td>\n",
              "      <td>SI</td>\n",
              "      <td>SI</td>\n",
              "      <td>SI</td>\n",
              "      <td>SI</td>\n",
              "      <td>SI</td>\n",
              "    </tr>\n",
              "  </tbody>\n",
              "</table>\n",
              "</div>\n",
              "      <button class=\"colab-df-convert\" onclick=\"convertToInteractive('df-fe9eb97a-a6a7-4ff0-b9ea-79db6ede3df2')\"\n",
              "              title=\"Convert this dataframe to an interactive table.\"\n",
              "              style=\"display:none;\">\n",
              "        \n",
              "  <svg xmlns=\"http://www.w3.org/2000/svg\" height=\"24px\"viewBox=\"0 0 24 24\"\n",
              "       width=\"24px\">\n",
              "    <path d=\"M0 0h24v24H0V0z\" fill=\"none\"/>\n",
              "    <path d=\"M18.56 5.44l.94 2.06.94-2.06 2.06-.94-2.06-.94-.94-2.06-.94 2.06-2.06.94zm-11 1L8.5 8.5l.94-2.06 2.06-.94-2.06-.94L8.5 2.5l-.94 2.06-2.06.94zm10 10l.94 2.06.94-2.06 2.06-.94-2.06-.94-.94-2.06-.94 2.06-2.06.94z\"/><path d=\"M17.41 7.96l-1.37-1.37c-.4-.4-.92-.59-1.43-.59-.52 0-1.04.2-1.43.59L10.3 9.45l-7.72 7.72c-.78.78-.78 2.05 0 2.83L4 21.41c.39.39.9.59 1.41.59.51 0 1.02-.2 1.41-.59l7.78-7.78 2.81-2.81c.8-.78.8-2.07 0-2.86zM5.41 20L4 18.59l7.72-7.72 1.47 1.35L5.41 20z\"/>\n",
              "  </svg>\n",
              "      </button>\n",
              "      \n",
              "  <style>\n",
              "    .colab-df-container {\n",
              "      display:flex;\n",
              "      flex-wrap:wrap;\n",
              "      gap: 12px;\n",
              "    }\n",
              "\n",
              "    .colab-df-convert {\n",
              "      background-color: #E8F0FE;\n",
              "      border: none;\n",
              "      border-radius: 50%;\n",
              "      cursor: pointer;\n",
              "      display: none;\n",
              "      fill: #1967D2;\n",
              "      height: 32px;\n",
              "      padding: 0 0 0 0;\n",
              "      width: 32px;\n",
              "    }\n",
              "\n",
              "    .colab-df-convert:hover {\n",
              "      background-color: #E2EBFA;\n",
              "      box-shadow: 0px 1px 2px rgba(60, 64, 67, 0.3), 0px 1px 3px 1px rgba(60, 64, 67, 0.15);\n",
              "      fill: #174EA6;\n",
              "    }\n",
              "\n",
              "    [theme=dark] .colab-df-convert {\n",
              "      background-color: #3B4455;\n",
              "      fill: #D2E3FC;\n",
              "    }\n",
              "\n",
              "    [theme=dark] .colab-df-convert:hover {\n",
              "      background-color: #434B5C;\n",
              "      box-shadow: 0px 1px 3px 1px rgba(0, 0, 0, 0.15);\n",
              "      filter: drop-shadow(0px 1px 2px rgba(0, 0, 0, 0.3));\n",
              "      fill: #FFFFFF;\n",
              "    }\n",
              "  </style>\n",
              "\n",
              "      <script>\n",
              "        const buttonEl =\n",
              "          document.querySelector('#df-fe9eb97a-a6a7-4ff0-b9ea-79db6ede3df2 button.colab-df-convert');\n",
              "        buttonEl.style.display =\n",
              "          google.colab.kernel.accessAllowed ? 'block' : 'none';\n",
              "\n",
              "        async function convertToInteractive(key) {\n",
              "          const element = document.querySelector('#df-fe9eb97a-a6a7-4ff0-b9ea-79db6ede3df2');\n",
              "          const dataTable =\n",
              "            await google.colab.kernel.invokeFunction('convertToInteractive',\n",
              "                                                     [key], {});\n",
              "          if (!dataTable) return;\n",
              "\n",
              "          const docLinkHtml = 'Like what you see? Visit the ' +\n",
              "            '<a target=\"_blank\" href=https://colab.research.google.com/notebooks/data_table.ipynb>data table notebook</a>'\n",
              "            + ' to learn more about interactive tables.';\n",
              "          element.innerHTML = '';\n",
              "          dataTable['output_type'] = 'display_data';\n",
              "          await google.colab.output.renderOutput(dataTable, element);\n",
              "          const docLink = document.createElement('div');\n",
              "          docLink.innerHTML = docLinkHtml;\n",
              "          element.appendChild(docLink);\n",
              "        }\n",
              "      </script>\n",
              "    </div>\n",
              "  </div>\n",
              "  "
            ]
          },
          "metadata": {},
          "execution_count": 30
        }
      ],
      "source": [
        "df.head()"
      ]
    },
    {
      "cell_type": "code",
      "execution_count": 31,
      "metadata": {
        "colab": {
          "base_uri": "https://localhost:8080/"
        },
        "id": "eMz2bflI0S00",
        "outputId": "fc5be793-0f89-4009-d75c-ebef5d2e9d25"
      },
      "outputs": [
        {
          "output_type": "execute_result",
          "data": {
            "text/plain": [
              "(1068, 57)"
            ]
          },
          "metadata": {},
          "execution_count": 31
        }
      ],
      "source": [
        "df.shape"
      ]
    },
    {
      "cell_type": "markdown",
      "metadata": {
        "id": "UPqI8W-b0S00"
      },
      "source": [
        "# Limpieza de datos"
      ]
    },
    {
      "cell_type": "code",
      "execution_count": 32,
      "metadata": {
        "id": "j-6cflJA0S01"
      },
      "outputs": [],
      "source": [
        "#Array de solo las columnas numericas\n",
        "datos_numericos=['ALC_mg/L', 'CONDUCT_mS/cm', 'SDT_M_mg/L', 'FLUORUROS_mg/L', 'DUR_mg/L', 'COLI_FEC_NMP/100_mL', 'N_NO3_mg/L', 'AS_TOT_mg/L', 'CD_TOT_mg/L', 'CR_TOT_mg/L', 'HG_TOT_mg/L', 'PB_TOT_mg/L', 'MN_TOT_mg/L', 'FE_TOT_mg/L']"
      ]
    },
    {
      "cell_type": "code",
      "execution_count": 33,
      "metadata": {
        "id": "sCa1zQ_d0S01"
      },
      "outputs": [],
      "source": [
        "#Remplaza datos numericos que incluyen el simbolo < por 0\n",
        "df.replace(to_replace=r'[<]\\w+', value=0, regex=True, inplace=True)"
      ]
    },
    {
      "cell_type": "code",
      "source": [
        "#La columna SDT_mg/L no contiene datos y la de CONTAMINANTES tiene muchos Nan seran eliminadas\n",
        "df.drop(['SDT_mg/L','CONTAMINANTES'], axis=1, inplace=True)\n"
      ],
      "metadata": {
        "id": "HzylDs9fhAXN"
      },
      "execution_count": 34,
      "outputs": []
    },
    {
      "cell_type": "code",
      "source": [
        "df.dropna(inplace=True)"
      ],
      "metadata": {
        "id": "fgKlcQGpFwwf"
      },
      "execution_count": 35,
      "outputs": []
    },
    {
      "cell_type": "code",
      "execution_count": 36,
      "metadata": {
        "id": "Mquc_BU-0S02"
      },
      "outputs": [],
      "source": [
        "#Convierte columnas que contienen datos númericos de tipo objeto a tipo flotante\n",
        "df[datos_numericos]=df[datos_numericos].astype('float')"
      ]
    },
    {
      "cell_type": "markdown",
      "metadata": {
        "id": "-JVrloAq0S06"
      },
      "source": [
        "# Clasificación"
      ]
    },
    {
      "cell_type": "code",
      "source": [
        "categorias=df['SEMAFORO'].unique()\n",
        "categorias"
      ],
      "metadata": {
        "colab": {
          "base_uri": "https://localhost:8080/"
        },
        "id": "Iuioqte3_sOg",
        "outputId": "c44c31c9-d00d-4151-994b-d8faa7443267"
      },
      "execution_count": 37,
      "outputs": [
        {
          "output_type": "execute_result",
          "data": {
            "text/plain": [
              "array(['Verde', 'Rojo', 'Amarillo'], dtype=object)"
            ]
          },
          "metadata": {},
          "execution_count": 37
        }
      ]
    },
    {
      "cell_type": "code",
      "source": [
        "#Cambia la columna del semaforo de un string a un numero para poder comparar con kameans\n",
        "y=df['SEMAFORO'].apply(lambda x: categorias.tolist().index(x))"
      ],
      "metadata": {
        "id": "zNhNQn2LBmIp"
      },
      "execution_count": 38,
      "outputs": []
    },
    {
      "cell_type": "code",
      "source": [
        "X=df[datos_numericos].values\n",
        "columnas=df[datos_numericos].columns"
      ],
      "metadata": {
        "id": "rgEVTe8xE8Sx"
      },
      "execution_count": 39,
      "outputs": []
    },
    {
      "cell_type": "code",
      "source": [
        "columnas"
      ],
      "metadata": {
        "id": "jq5A4jksIW3d",
        "outputId": "707b1dbe-798d-45cb-9a9d-d42806e5977a",
        "colab": {
          "base_uri": "https://localhost:8080/"
        }
      },
      "execution_count": 40,
      "outputs": [
        {
          "output_type": "execute_result",
          "data": {
            "text/plain": [
              "Index(['ALC_mg/L', 'CONDUCT_mS/cm', 'SDT_M_mg/L', 'FLUORUROS_mg/L', 'DUR_mg/L',\n",
              "       'COLI_FEC_NMP/100_mL', 'N_NO3_mg/L', 'AS_TOT_mg/L', 'CD_TOT_mg/L',\n",
              "       'CR_TOT_mg/L', 'HG_TOT_mg/L', 'PB_TOT_mg/L', 'MN_TOT_mg/L',\n",
              "       'FE_TOT_mg/L'],\n",
              "      dtype='object')"
            ]
          },
          "metadata": {},
          "execution_count": 40
        }
      ]
    },
    {
      "cell_type": "code",
      "source": [
        "from sklearn.tree import DecisionTreeClassifier"
      ],
      "metadata": {
        "id": "JEl73-yCE1ib"
      },
      "execution_count": 41,
      "outputs": []
    },
    {
      "cell_type": "code",
      "source": [
        "tree_clf = DecisionTreeClassifier(max_depth=4, random_state=42)\n",
        "tree_clf.fit(X, y)"
      ],
      "metadata": {
        "id": "UTozKpBFFmTM",
        "outputId": "9da467e1-bf52-4989-e8f1-4f2c5a6d05b2",
        "colab": {
          "base_uri": "https://localhost:8080/"
        }
      },
      "execution_count": 54,
      "outputs": [
        {
          "output_type": "execute_result",
          "data": {
            "text/plain": [
              "DecisionTreeClassifier(max_depth=4, random_state=42)"
            ]
          },
          "metadata": {},
          "execution_count": 54
        }
      ]
    },
    {
      "cell_type": "markdown",
      "source": [
        "**Importancia de las variables**"
      ],
      "metadata": {
        "id": "-c3OgL0S_cb5"
      }
    },
    {
      "cell_type": "code",
      "source": [
        "importancia_clf=pd.DataFrame(tree_clf.feature_importances_,columns=['importancia'])\n",
        "importancia_clf['nombres']=columnas\n",
        "importancia_clf.sort_values(by='importancia', ascending=False)"
      ],
      "metadata": {
        "colab": {
          "base_uri": "https://localhost:8080/",
          "height": 488
        },
        "id": "RrLZDFyA-zNz",
        "outputId": "cfbc277e-9f43-456e-d399-ff8c67797b9a"
      },
      "execution_count": 55,
      "outputs": [
        {
          "output_type": "execute_result",
          "data": {
            "text/plain": [
              "    importancia              nombres\n",
              "3      0.332748       FLUORUROS_mg/L\n",
              "4      0.276398             DUR_mg/L\n",
              "6      0.199842           N_NO3_mg/L\n",
              "13     0.131057          FE_TOT_mg/L\n",
              "5      0.038022  COLI_FEC_NMP/100_mL\n",
              "7      0.021931          AS_TOT_mg/L\n",
              "0      0.000000             ALC_mg/L\n",
              "1      0.000000        CONDUCT_mS/cm\n",
              "2      0.000000           SDT_M_mg/L\n",
              "8      0.000000          CD_TOT_mg/L\n",
              "9      0.000000          CR_TOT_mg/L\n",
              "10     0.000000          HG_TOT_mg/L\n",
              "11     0.000000          PB_TOT_mg/L\n",
              "12     0.000000          MN_TOT_mg/L"
            ],
            "text/html": [
              "\n",
              "  <div id=\"df-47879cfc-b62f-4c9f-97d2-a4bbd7aff252\">\n",
              "    <div class=\"colab-df-container\">\n",
              "      <div>\n",
              "<style scoped>\n",
              "    .dataframe tbody tr th:only-of-type {\n",
              "        vertical-align: middle;\n",
              "    }\n",
              "\n",
              "    .dataframe tbody tr th {\n",
              "        vertical-align: top;\n",
              "    }\n",
              "\n",
              "    .dataframe thead th {\n",
              "        text-align: right;\n",
              "    }\n",
              "</style>\n",
              "<table border=\"1\" class=\"dataframe\">\n",
              "  <thead>\n",
              "    <tr style=\"text-align: right;\">\n",
              "      <th></th>\n",
              "      <th>importancia</th>\n",
              "      <th>nombres</th>\n",
              "    </tr>\n",
              "  </thead>\n",
              "  <tbody>\n",
              "    <tr>\n",
              "      <th>3</th>\n",
              "      <td>0.332748</td>\n",
              "      <td>FLUORUROS_mg/L</td>\n",
              "    </tr>\n",
              "    <tr>\n",
              "      <th>4</th>\n",
              "      <td>0.276398</td>\n",
              "      <td>DUR_mg/L</td>\n",
              "    </tr>\n",
              "    <tr>\n",
              "      <th>6</th>\n",
              "      <td>0.199842</td>\n",
              "      <td>N_NO3_mg/L</td>\n",
              "    </tr>\n",
              "    <tr>\n",
              "      <th>13</th>\n",
              "      <td>0.131057</td>\n",
              "      <td>FE_TOT_mg/L</td>\n",
              "    </tr>\n",
              "    <tr>\n",
              "      <th>5</th>\n",
              "      <td>0.038022</td>\n",
              "      <td>COLI_FEC_NMP/100_mL</td>\n",
              "    </tr>\n",
              "    <tr>\n",
              "      <th>7</th>\n",
              "      <td>0.021931</td>\n",
              "      <td>AS_TOT_mg/L</td>\n",
              "    </tr>\n",
              "    <tr>\n",
              "      <th>0</th>\n",
              "      <td>0.000000</td>\n",
              "      <td>ALC_mg/L</td>\n",
              "    </tr>\n",
              "    <tr>\n",
              "      <th>1</th>\n",
              "      <td>0.000000</td>\n",
              "      <td>CONDUCT_mS/cm</td>\n",
              "    </tr>\n",
              "    <tr>\n",
              "      <th>2</th>\n",
              "      <td>0.000000</td>\n",
              "      <td>SDT_M_mg/L</td>\n",
              "    </tr>\n",
              "    <tr>\n",
              "      <th>8</th>\n",
              "      <td>0.000000</td>\n",
              "      <td>CD_TOT_mg/L</td>\n",
              "    </tr>\n",
              "    <tr>\n",
              "      <th>9</th>\n",
              "      <td>0.000000</td>\n",
              "      <td>CR_TOT_mg/L</td>\n",
              "    </tr>\n",
              "    <tr>\n",
              "      <th>10</th>\n",
              "      <td>0.000000</td>\n",
              "      <td>HG_TOT_mg/L</td>\n",
              "    </tr>\n",
              "    <tr>\n",
              "      <th>11</th>\n",
              "      <td>0.000000</td>\n",
              "      <td>PB_TOT_mg/L</td>\n",
              "    </tr>\n",
              "    <tr>\n",
              "      <th>12</th>\n",
              "      <td>0.000000</td>\n",
              "      <td>MN_TOT_mg/L</td>\n",
              "    </tr>\n",
              "  </tbody>\n",
              "</table>\n",
              "</div>\n",
              "      <button class=\"colab-df-convert\" onclick=\"convertToInteractive('df-47879cfc-b62f-4c9f-97d2-a4bbd7aff252')\"\n",
              "              title=\"Convert this dataframe to an interactive table.\"\n",
              "              style=\"display:none;\">\n",
              "        \n",
              "  <svg xmlns=\"http://www.w3.org/2000/svg\" height=\"24px\"viewBox=\"0 0 24 24\"\n",
              "       width=\"24px\">\n",
              "    <path d=\"M0 0h24v24H0V0z\" fill=\"none\"/>\n",
              "    <path d=\"M18.56 5.44l.94 2.06.94-2.06 2.06-.94-2.06-.94-.94-2.06-.94 2.06-2.06.94zm-11 1L8.5 8.5l.94-2.06 2.06-.94-2.06-.94L8.5 2.5l-.94 2.06-2.06.94zm10 10l.94 2.06.94-2.06 2.06-.94-2.06-.94-.94-2.06-.94 2.06-2.06.94z\"/><path d=\"M17.41 7.96l-1.37-1.37c-.4-.4-.92-.59-1.43-.59-.52 0-1.04.2-1.43.59L10.3 9.45l-7.72 7.72c-.78.78-.78 2.05 0 2.83L4 21.41c.39.39.9.59 1.41.59.51 0 1.02-.2 1.41-.59l7.78-7.78 2.81-2.81c.8-.78.8-2.07 0-2.86zM5.41 20L4 18.59l7.72-7.72 1.47 1.35L5.41 20z\"/>\n",
              "  </svg>\n",
              "      </button>\n",
              "      \n",
              "  <style>\n",
              "    .colab-df-container {\n",
              "      display:flex;\n",
              "      flex-wrap:wrap;\n",
              "      gap: 12px;\n",
              "    }\n",
              "\n",
              "    .colab-df-convert {\n",
              "      background-color: #E8F0FE;\n",
              "      border: none;\n",
              "      border-radius: 50%;\n",
              "      cursor: pointer;\n",
              "      display: none;\n",
              "      fill: #1967D2;\n",
              "      height: 32px;\n",
              "      padding: 0 0 0 0;\n",
              "      width: 32px;\n",
              "    }\n",
              "\n",
              "    .colab-df-convert:hover {\n",
              "      background-color: #E2EBFA;\n",
              "      box-shadow: 0px 1px 2px rgba(60, 64, 67, 0.3), 0px 1px 3px 1px rgba(60, 64, 67, 0.15);\n",
              "      fill: #174EA6;\n",
              "    }\n",
              "\n",
              "    [theme=dark] .colab-df-convert {\n",
              "      background-color: #3B4455;\n",
              "      fill: #D2E3FC;\n",
              "    }\n",
              "\n",
              "    [theme=dark] .colab-df-convert:hover {\n",
              "      background-color: #434B5C;\n",
              "      box-shadow: 0px 1px 3px 1px rgba(0, 0, 0, 0.15);\n",
              "      filter: drop-shadow(0px 1px 2px rgba(0, 0, 0, 0.3));\n",
              "      fill: #FFFFFF;\n",
              "    }\n",
              "  </style>\n",
              "\n",
              "      <script>\n",
              "        const buttonEl =\n",
              "          document.querySelector('#df-47879cfc-b62f-4c9f-97d2-a4bbd7aff252 button.colab-df-convert');\n",
              "        buttonEl.style.display =\n",
              "          google.colab.kernel.accessAllowed ? 'block' : 'none';\n",
              "\n",
              "        async function convertToInteractive(key) {\n",
              "          const element = document.querySelector('#df-47879cfc-b62f-4c9f-97d2-a4bbd7aff252');\n",
              "          const dataTable =\n",
              "            await google.colab.kernel.invokeFunction('convertToInteractive',\n",
              "                                                     [key], {});\n",
              "          if (!dataTable) return;\n",
              "\n",
              "          const docLinkHtml = 'Like what you see? Visit the ' +\n",
              "            '<a target=\"_blank\" href=https://colab.research.google.com/notebooks/data_table.ipynb>data table notebook</a>'\n",
              "            + ' to learn more about interactive tables.';\n",
              "          element.innerHTML = '';\n",
              "          dataTable['output_type'] = 'display_data';\n",
              "          await google.colab.output.renderOutput(dataTable, element);\n",
              "          const docLink = document.createElement('div');\n",
              "          docLink.innerHTML = docLinkHtml;\n",
              "          element.appendChild(docLink);\n",
              "        }\n",
              "      </script>\n",
              "    </div>\n",
              "  </div>\n",
              "  "
            ]
          },
          "metadata": {},
          "execution_count": 55
        }
      ]
    },
    {
      "cell_type": "code",
      "source": [
        "from sklearn.tree import export_graphviz\n",
        "\n",
        "export_graphviz(\n",
        "        tree_clf,\n",
        "        out_file=str( \"aguas_subterraneas.dot\"),  # path differs in the book\n",
        "        feature_names=columnas,\n",
        "        class_names=categorias,\n",
        "        rounded=True,\n",
        "        filled=True\n",
        "    )"
      ],
      "metadata": {
        "id": "N4wOyFszGoDF"
      },
      "execution_count": 56,
      "outputs": []
    },
    {
      "cell_type": "code",
      "source": [
        "from graphviz import Source\n",
        "\n",
        "Source.from_file(\"aguas_subterraneas.dot\")  # path differs in the book"
      ],
      "metadata": {
        "id": "c0sKYglYHFdK",
        "outputId": "81f27971-5a61-454b-abe1-b69b45f7cf6b",
        "colab": {
          "base_uri": "https://localhost:8080/",
          "height": 778
        }
      },
      "execution_count": 57,
      "outputs": [
        {
          "output_type": "execute_result",
          "data": {
            "text/plain": [
              "<graphviz.files.Source at 0x7f8258e9eb90>"
            ],
            "image/svg+xml": "<?xml version=\"1.0\" encoding=\"UTF-8\" standalone=\"no\"?>\n<!DOCTYPE svg PUBLIC \"-//W3C//DTD SVG 1.1//EN\"\n \"http://www.w3.org/Graphics/SVG/1.1/DTD/svg11.dtd\">\n<!-- Generated by graphviz version 2.40.1 (20161225.0304)\n -->\n<!-- Title: Tree Pages: 1 -->\n<svg width=\"940pt\" height=\"552pt\"\n viewBox=\"0.00 0.00 939.50 552.00\" xmlns=\"http://www.w3.org/2000/svg\" xmlns:xlink=\"http://www.w3.org/1999/xlink\">\n<g id=\"graph0\" class=\"graph\" transform=\"scale(1 1) rotate(0) translate(4 548)\">\n<title>Tree</title>\n<polygon fill=\"#ffffff\" stroke=\"transparent\" points=\"-4,4 -4,-548 935.5,-548 935.5,4 -4,4\"/>\n<!-- 0 -->\n<g id=\"node1\" class=\"node\">\n<title>0</title>\n<path fill=\"#fdf7f2\" stroke=\"#000000\" d=\"M719.5,-544C719.5,-544 534.5,-544 534.5,-544 528.5,-544 522.5,-538 522.5,-532 522.5,-532 522.5,-473 522.5,-473 522.5,-467 528.5,-461 534.5,-461 534.5,-461 719.5,-461 719.5,-461 725.5,-461 731.5,-467 731.5,-473 731.5,-473 731.5,-532 731.5,-532 731.5,-538 725.5,-544 719.5,-544\"/>\n<text text-anchor=\"middle\" x=\"627\" y=\"-528.8\" font-family=\"Helvetica,sans-Serif\" font-size=\"14.00\" fill=\"#000000\">FLUORUROS_mg/L &lt;= 1.504</text>\n<text text-anchor=\"middle\" x=\"627\" y=\"-513.8\" font-family=\"Helvetica,sans-Serif\" font-size=\"14.00\" fill=\"#000000\">gini = 0.65</text>\n<text text-anchor=\"middle\" x=\"627\" y=\"-498.8\" font-family=\"Helvetica,sans-Serif\" font-size=\"14.00\" fill=\"#000000\">samples = 1054</text>\n<text text-anchor=\"middle\" x=\"627\" y=\"-483.8\" font-family=\"Helvetica,sans-Serif\" font-size=\"14.00\" fill=\"#000000\">value = [427, 382, 245]</text>\n<text text-anchor=\"middle\" x=\"627\" y=\"-468.8\" font-family=\"Helvetica,sans-Serif\" font-size=\"14.00\" fill=\"#000000\">class = Verde</text>\n</g>\n<!-- 1 -->\n<g id=\"node2\" class=\"node\">\n<title>1</title>\n<path fill=\"#f7dac5\" stroke=\"#000000\" d=\"M614.5,-425C614.5,-425 473.5,-425 473.5,-425 467.5,-425 461.5,-419 461.5,-413 461.5,-413 461.5,-354 461.5,-354 461.5,-348 467.5,-342 473.5,-342 473.5,-342 614.5,-342 614.5,-342 620.5,-342 626.5,-348 626.5,-354 626.5,-354 626.5,-413 626.5,-413 626.5,-419 620.5,-425 614.5,-425\"/>\n<text text-anchor=\"middle\" x=\"544\" y=\"-409.8\" font-family=\"Helvetica,sans-Serif\" font-size=\"14.00\" fill=\"#000000\">DUR_mg/L &lt;= 500.305</text>\n<text text-anchor=\"middle\" x=\"544\" y=\"-394.8\" font-family=\"Helvetica,sans-Serif\" font-size=\"14.00\" fill=\"#000000\">gini = 0.626</text>\n<text text-anchor=\"middle\" x=\"544\" y=\"-379.8\" font-family=\"Helvetica,sans-Serif\" font-size=\"14.00\" fill=\"#000000\">samples = 864</text>\n<text text-anchor=\"middle\" x=\"544\" y=\"-364.8\" font-family=\"Helvetica,sans-Serif\" font-size=\"14.00\" fill=\"#000000\">value = [427, 192, 245]</text>\n<text text-anchor=\"middle\" x=\"544\" y=\"-349.8\" font-family=\"Helvetica,sans-Serif\" font-size=\"14.00\" fill=\"#000000\">class = Verde</text>\n</g>\n<!-- 0&#45;&gt;1 -->\n<g id=\"edge1\" class=\"edge\">\n<title>0&#45;&gt;1</title>\n<path fill=\"none\" stroke=\"#000000\" d=\"M597.9706,-460.8796C591.8145,-452.0534 585.2549,-442.6485 578.9064,-433.5466\"/>\n<polygon fill=\"#000000\" stroke=\"#000000\" points=\"581.7448,-431.4978 573.1533,-425.2981 576.0033,-435.5024 581.7448,-431.4978\"/>\n<text text-anchor=\"middle\" x=\"568.7669\" y=\"-446.2103\" font-family=\"Helvetica,sans-Serif\" font-size=\"14.00\" fill=\"#000000\">True</text>\n</g>\n<!-- 14 -->\n<g id=\"node15\" class=\"node\">\n<title>14</title>\n<path fill=\"#39e581\" stroke=\"#000000\" d=\"M763.5,-417.5C763.5,-417.5 656.5,-417.5 656.5,-417.5 650.5,-417.5 644.5,-411.5 644.5,-405.5 644.5,-405.5 644.5,-361.5 644.5,-361.5 644.5,-355.5 650.5,-349.5 656.5,-349.5 656.5,-349.5 763.5,-349.5 763.5,-349.5 769.5,-349.5 775.5,-355.5 775.5,-361.5 775.5,-361.5 775.5,-405.5 775.5,-405.5 775.5,-411.5 769.5,-417.5 763.5,-417.5\"/>\n<text text-anchor=\"middle\" x=\"710\" y=\"-402.3\" font-family=\"Helvetica,sans-Serif\" font-size=\"14.00\" fill=\"#000000\">gini = 0.0</text>\n<text text-anchor=\"middle\" x=\"710\" y=\"-387.3\" font-family=\"Helvetica,sans-Serif\" font-size=\"14.00\" fill=\"#000000\">samples = 190</text>\n<text text-anchor=\"middle\" x=\"710\" y=\"-372.3\" font-family=\"Helvetica,sans-Serif\" font-size=\"14.00\" fill=\"#000000\">value = [0, 190, 0]</text>\n<text text-anchor=\"middle\" x=\"710\" y=\"-357.3\" font-family=\"Helvetica,sans-Serif\" font-size=\"14.00\" fill=\"#000000\">class = Rojo</text>\n</g>\n<!-- 0&#45;&gt;14 -->\n<g id=\"edge14\" class=\"edge\">\n<title>0&#45;&gt;14</title>\n<path fill=\"none\" stroke=\"#000000\" d=\"M656.0294,-460.8796C663.8523,-449.6636 672.327,-437.5131 680.1917,-426.2372\"/>\n<polygon fill=\"#000000\" stroke=\"#000000\" points=\"683.216,-428.0192 686.0661,-417.8149 677.4746,-424.0147 683.216,-428.0192\"/>\n<text text-anchor=\"middle\" x=\"690.4524\" y=\"-438.7271\" font-family=\"Helvetica,sans-Serif\" font-size=\"14.00\" fill=\"#000000\">False</text>\n</g>\n<!-- 2 -->\n<g id=\"node3\" class=\"node\">\n<title>2</title>\n<path fill=\"#f1ba92\" stroke=\"#000000\" d=\"M504.5,-306C504.5,-306 355.5,-306 355.5,-306 349.5,-306 343.5,-300 343.5,-294 343.5,-294 343.5,-235 343.5,-235 343.5,-229 349.5,-223 355.5,-223 355.5,-223 504.5,-223 504.5,-223 510.5,-223 516.5,-229 516.5,-235 516.5,-235 516.5,-294 516.5,-294 516.5,-300 510.5,-306 504.5,-306\"/>\n<text text-anchor=\"middle\" x=\"430\" y=\"-290.8\" font-family=\"Helvetica,sans-Serif\" font-size=\"14.00\" fill=\"#000000\">FE_TOT_mg/L &lt;= 0.295</text>\n<text text-anchor=\"middle\" x=\"430\" y=\"-275.8\" font-family=\"Helvetica,sans-Serif\" font-size=\"14.00\" fill=\"#000000\">gini = 0.519</text>\n<text text-anchor=\"middle\" x=\"430\" y=\"-260.8\" font-family=\"Helvetica,sans-Serif\" font-size=\"14.00\" fill=\"#000000\">samples = 662</text>\n<text text-anchor=\"middle\" x=\"430\" y=\"-245.8\" font-family=\"Helvetica,sans-Serif\" font-size=\"14.00\" fill=\"#000000\">value = [427, 140, 95]</text>\n<text text-anchor=\"middle\" x=\"430\" y=\"-230.8\" font-family=\"Helvetica,sans-Serif\" font-size=\"14.00\" fill=\"#000000\">class = Verde</text>\n</g>\n<!-- 1&#45;&gt;2 -->\n<g id=\"edge2\" class=\"edge\">\n<title>1&#45;&gt;2</title>\n<path fill=\"none\" stroke=\"#000000\" d=\"M504.1283,-341.8796C495.4142,-332.7832 486.1112,-323.0722 477.1438,-313.7116\"/>\n<polygon fill=\"#000000\" stroke=\"#000000\" points=\"479.487,-311.098 470.0419,-306.2981 474.4322,-315.9405 479.487,-311.098\"/>\n</g>\n<!-- 9 -->\n<g id=\"node10\" class=\"node\">\n<title>9</title>\n<path fill=\"#ad7eee\" stroke=\"#000000\" d=\"M743,-306C743,-306 593,-306 593,-306 587,-306 581,-300 581,-294 581,-294 581,-235 581,-235 581,-229 587,-223 593,-223 593,-223 743,-223 743,-223 749,-223 755,-229 755,-235 755,-235 755,-294 755,-294 755,-300 749,-306 743,-306\"/>\n<text text-anchor=\"middle\" x=\"668\" y=\"-290.8\" font-family=\"Helvetica,sans-Serif\" font-size=\"14.00\" fill=\"#000000\">N_NO3_mg/L &lt;= 11.173</text>\n<text text-anchor=\"middle\" x=\"668\" y=\"-275.8\" font-family=\"Helvetica,sans-Serif\" font-size=\"14.00\" fill=\"#000000\">gini = 0.382</text>\n<text text-anchor=\"middle\" x=\"668\" y=\"-260.8\" font-family=\"Helvetica,sans-Serif\" font-size=\"14.00\" fill=\"#000000\">samples = 202</text>\n<text text-anchor=\"middle\" x=\"668\" y=\"-245.8\" font-family=\"Helvetica,sans-Serif\" font-size=\"14.00\" fill=\"#000000\">value = [0, 52, 150]</text>\n<text text-anchor=\"middle\" x=\"668\" y=\"-230.8\" font-family=\"Helvetica,sans-Serif\" font-size=\"14.00\" fill=\"#000000\">class = Amarillo</text>\n</g>\n<!-- 1&#45;&gt;9 -->\n<g id=\"edge9\" class=\"edge\">\n<title>1&#45;&gt;9</title>\n<path fill=\"none\" stroke=\"#000000\" d=\"M587.3692,-341.8796C596.9416,-332.6931 607.1672,-322.8798 617.0103,-313.4336\"/>\n<polygon fill=\"#000000\" stroke=\"#000000\" points=\"619.6541,-315.7475 624.4457,-306.2981 614.8072,-310.6969 619.6541,-315.7475\"/>\n</g>\n<!-- 3 -->\n<g id=\"node4\" class=\"node\">\n<title>3</title>\n<path fill=\"#eeaa7a\" stroke=\"#000000\" d=\"M303,-187C303,-187 153,-187 153,-187 147,-187 141,-181 141,-175 141,-175 141,-116 141,-116 141,-110 147,-104 153,-104 153,-104 303,-104 303,-104 309,-104 315,-110 315,-116 315,-116 315,-175 315,-175 315,-181 309,-187 303,-187\"/>\n<text text-anchor=\"middle\" x=\"228\" y=\"-171.8\" font-family=\"Helvetica,sans-Serif\" font-size=\"14.00\" fill=\"#000000\">N_NO3_mg/L &lt;= 10.936</text>\n<text text-anchor=\"middle\" x=\"228\" y=\"-156.8\" font-family=\"Helvetica,sans-Serif\" font-size=\"14.00\" fill=\"#000000\">gini = 0.423</text>\n<text text-anchor=\"middle\" x=\"228\" y=\"-141.8\" font-family=\"Helvetica,sans-Serif\" font-size=\"14.00\" fill=\"#000000\">samples = 582</text>\n<text text-anchor=\"middle\" x=\"228\" y=\"-126.8\" font-family=\"Helvetica,sans-Serif\" font-size=\"14.00\" fill=\"#000000\">value = [426, 107, 49]</text>\n<text text-anchor=\"middle\" x=\"228\" y=\"-111.8\" font-family=\"Helvetica,sans-Serif\" font-size=\"14.00\" fill=\"#000000\">class = Verde</text>\n</g>\n<!-- 2&#45;&gt;3 -->\n<g id=\"edge3\" class=\"edge\">\n<title>2&#45;&gt;3</title>\n<path fill=\"none\" stroke=\"#000000\" d=\"M359.3502,-222.8796C342.5894,-213.0056 324.5992,-202.4075 307.4748,-192.3193\"/>\n<polygon fill=\"#000000\" stroke=\"#000000\" points=\"309.0025,-189.1571 298.6099,-187.0969 305.4494,-195.1884 309.0025,-189.1571\"/>\n</g>\n<!-- 6 -->\n<g id=\"node7\" class=\"node\">\n<title>6</title>\n<path fill=\"#dcc8f8\" stroke=\"#000000\" d=\"M505,-187C505,-187 355,-187 355,-187 349,-187 343,-181 343,-175 343,-175 343,-116 343,-116 343,-110 349,-104 355,-104 355,-104 505,-104 505,-104 511,-104 517,-110 517,-116 517,-116 517,-175 517,-175 517,-181 511,-187 505,-187\"/>\n<text text-anchor=\"middle\" x=\"430\" y=\"-171.8\" font-family=\"Helvetica,sans-Serif\" font-size=\"14.00\" fill=\"#000000\">AS_TOT_mg/L &lt;= 0.023</text>\n<text text-anchor=\"middle\" x=\"430\" y=\"-156.8\" font-family=\"Helvetica,sans-Serif\" font-size=\"14.00\" fill=\"#000000\">gini = 0.499</text>\n<text text-anchor=\"middle\" x=\"430\" y=\"-141.8\" font-family=\"Helvetica,sans-Serif\" font-size=\"14.00\" fill=\"#000000\">samples = 80</text>\n<text text-anchor=\"middle\" x=\"430\" y=\"-126.8\" font-family=\"Helvetica,sans-Serif\" font-size=\"14.00\" fill=\"#000000\">value = [1, 33, 46]</text>\n<text text-anchor=\"middle\" x=\"430\" y=\"-111.8\" font-family=\"Helvetica,sans-Serif\" font-size=\"14.00\" fill=\"#000000\">class = Amarillo</text>\n</g>\n<!-- 2&#45;&gt;6 -->\n<g id=\"edge6\" class=\"edge\">\n<title>2&#45;&gt;6</title>\n<path fill=\"none\" stroke=\"#000000\" d=\"M430,-222.8796C430,-214.6838 430,-205.9891 430,-197.5013\"/>\n<polygon fill=\"#000000\" stroke=\"#000000\" points=\"433.5001,-197.298 430,-187.2981 426.5001,-197.2981 433.5001,-197.298\"/>\n</g>\n<!-- 4 -->\n<g id=\"node5\" class=\"node\">\n<title>4</title>\n<path fill=\"#eca16b\" stroke=\"#000000\" d=\"M136,-68C136,-68 12,-68 12,-68 6,-68 0,-62 0,-56 0,-56 0,-12 0,-12 0,-6 6,0 12,0 12,0 136,0 136,0 142,0 148,-6 148,-12 148,-12 148,-56 148,-56 148,-62 142,-68 136,-68\"/>\n<text text-anchor=\"middle\" x=\"74\" y=\"-52.8\" font-family=\"Helvetica,sans-Serif\" font-size=\"14.00\" fill=\"#000000\">gini = 0.368</text>\n<text text-anchor=\"middle\" x=\"74\" y=\"-37.8\" font-family=\"Helvetica,sans-Serif\" font-size=\"14.00\" fill=\"#000000\">samples = 547</text>\n<text text-anchor=\"middle\" x=\"74\" y=\"-22.8\" font-family=\"Helvetica,sans-Serif\" font-size=\"14.00\" fill=\"#000000\">value = [426, 72, 49]</text>\n<text text-anchor=\"middle\" x=\"74\" y=\"-7.8\" font-family=\"Helvetica,sans-Serif\" font-size=\"14.00\" fill=\"#000000\">class = Verde</text>\n</g>\n<!-- 3&#45;&gt;4 -->\n<g id=\"edge4\" class=\"edge\">\n<title>3&#45;&gt;4</title>\n<path fill=\"none\" stroke=\"#000000\" d=\"M170.6561,-103.9815C157.2006,-94.2394 142.8869,-83.8759 129.5133,-74.193\"/>\n<polygon fill=\"#000000\" stroke=\"#000000\" points=\"131.4763,-71.2933 121.3238,-68.2637 127.3711,-76.9632 131.4763,-71.2933\"/>\n</g>\n<!-- 5 -->\n<g id=\"node6\" class=\"node\">\n<title>5</title>\n<path fill=\"#39e581\" stroke=\"#000000\" d=\"M277.5,-68C277.5,-68 178.5,-68 178.5,-68 172.5,-68 166.5,-62 166.5,-56 166.5,-56 166.5,-12 166.5,-12 166.5,-6 172.5,0 178.5,0 178.5,0 277.5,0 277.5,0 283.5,0 289.5,-6 289.5,-12 289.5,-12 289.5,-56 289.5,-56 289.5,-62 283.5,-68 277.5,-68\"/>\n<text text-anchor=\"middle\" x=\"228\" y=\"-52.8\" font-family=\"Helvetica,sans-Serif\" font-size=\"14.00\" fill=\"#000000\">gini = 0.0</text>\n<text text-anchor=\"middle\" x=\"228\" y=\"-37.8\" font-family=\"Helvetica,sans-Serif\" font-size=\"14.00\" fill=\"#000000\">samples = 35</text>\n<text text-anchor=\"middle\" x=\"228\" y=\"-22.8\" font-family=\"Helvetica,sans-Serif\" font-size=\"14.00\" fill=\"#000000\">value = [0, 35, 0]</text>\n<text text-anchor=\"middle\" x=\"228\" y=\"-7.8\" font-family=\"Helvetica,sans-Serif\" font-size=\"14.00\" fill=\"#000000\">class = Rojo</text>\n</g>\n<!-- 3&#45;&gt;5 -->\n<g id=\"edge5\" class=\"edge\">\n<title>3&#45;&gt;5</title>\n<path fill=\"none\" stroke=\"#000000\" d=\"M228,-103.9815C228,-95.618 228,-86.7965 228,-78.3409\"/>\n<polygon fill=\"#000000\" stroke=\"#000000\" points=\"231.5001,-78.2636 228,-68.2637 224.5001,-78.2637 231.5001,-78.2636\"/>\n</g>\n<!-- 7 -->\n<g id=\"node8\" class=\"node\">\n<title>7</title>\n<path fill=\"#bc96f1\" stroke=\"#000000\" d=\"M426.5,-68C426.5,-68 319.5,-68 319.5,-68 313.5,-68 307.5,-62 307.5,-56 307.5,-56 307.5,-12 307.5,-12 307.5,-6 313.5,0 319.5,0 319.5,0 426.5,0 426.5,0 432.5,0 438.5,-6 438.5,-12 438.5,-12 438.5,-56 438.5,-56 438.5,-62 432.5,-68 426.5,-68\"/>\n<text text-anchor=\"middle\" x=\"373\" y=\"-52.8\" font-family=\"Helvetica,sans-Serif\" font-size=\"14.00\" fill=\"#000000\">gini = 0.447</text>\n<text text-anchor=\"middle\" x=\"373\" y=\"-37.8\" font-family=\"Helvetica,sans-Serif\" font-size=\"14.00\" fill=\"#000000\">samples = 68</text>\n<text text-anchor=\"middle\" x=\"373\" y=\"-22.8\" font-family=\"Helvetica,sans-Serif\" font-size=\"14.00\" fill=\"#000000\">value = [1, 21, 46]</text>\n<text text-anchor=\"middle\" x=\"373\" y=\"-7.8\" font-family=\"Helvetica,sans-Serif\" font-size=\"14.00\" fill=\"#000000\">class = Amarillo</text>\n</g>\n<!-- 6&#45;&gt;7 -->\n<g id=\"edge7\" class=\"edge\">\n<title>6&#45;&gt;7</title>\n<path fill=\"none\" stroke=\"#000000\" d=\"M408.7753,-103.9815C404.3119,-95.2504 399.5933,-86.0202 395.0987,-77.2281\"/>\n<polygon fill=\"#000000\" stroke=\"#000000\" points=\"398.1842,-75.5745 390.516,-68.2637 391.9514,-78.7608 398.1842,-75.5745\"/>\n</g>\n<!-- 8 -->\n<g id=\"node9\" class=\"node\">\n<title>8</title>\n<path fill=\"#39e581\" stroke=\"#000000\" d=\"M567.5,-68C567.5,-68 468.5,-68 468.5,-68 462.5,-68 456.5,-62 456.5,-56 456.5,-56 456.5,-12 456.5,-12 456.5,-6 462.5,0 468.5,0 468.5,0 567.5,0 567.5,0 573.5,0 579.5,-6 579.5,-12 579.5,-12 579.5,-56 579.5,-56 579.5,-62 573.5,-68 567.5,-68\"/>\n<text text-anchor=\"middle\" x=\"518\" y=\"-52.8\" font-family=\"Helvetica,sans-Serif\" font-size=\"14.00\" fill=\"#000000\">gini = 0.0</text>\n<text text-anchor=\"middle\" x=\"518\" y=\"-37.8\" font-family=\"Helvetica,sans-Serif\" font-size=\"14.00\" fill=\"#000000\">samples = 12</text>\n<text text-anchor=\"middle\" x=\"518\" y=\"-22.8\" font-family=\"Helvetica,sans-Serif\" font-size=\"14.00\" fill=\"#000000\">value = [0, 12, 0]</text>\n<text text-anchor=\"middle\" x=\"518\" y=\"-7.8\" font-family=\"Helvetica,sans-Serif\" font-size=\"14.00\" fill=\"#000000\">class = Rojo</text>\n</g>\n<!-- 6&#45;&gt;8 -->\n<g id=\"edge8\" class=\"edge\">\n<title>6&#45;&gt;8</title>\n<path fill=\"none\" stroke=\"#000000\" d=\"M462.768,-103.9815C469.949,-94.8828 477.5579,-85.242 484.7574,-76.1199\"/>\n<polygon fill=\"#000000\" stroke=\"#000000\" points=\"487.5099,-78.2818 490.9578,-68.2637 482.0151,-73.9451 487.5099,-78.2818\"/>\n</g>\n<!-- 10 -->\n<g id=\"node11\" class=\"node\">\n<title>10</title>\n<path fill=\"#9253e8\" stroke=\"#000000\" d=\"M778.5,-187C778.5,-187 557.5,-187 557.5,-187 551.5,-187 545.5,-181 545.5,-175 545.5,-175 545.5,-116 545.5,-116 545.5,-110 551.5,-104 557.5,-104 557.5,-104 778.5,-104 778.5,-104 784.5,-104 790.5,-110 790.5,-116 790.5,-116 790.5,-175 790.5,-175 790.5,-181 784.5,-187 778.5,-187\"/>\n<text text-anchor=\"middle\" x=\"668\" y=\"-171.8\" font-family=\"Helvetica,sans-Serif\" font-size=\"14.00\" fill=\"#000000\">COLI_FEC_NMP/100_mL &lt;= 815.0</text>\n<text text-anchor=\"middle\" x=\"668\" y=\"-156.8\" font-family=\"Helvetica,sans-Serif\" font-size=\"14.00\" fill=\"#000000\">gini = 0.208</text>\n<text text-anchor=\"middle\" x=\"668\" y=\"-141.8\" font-family=\"Helvetica,sans-Serif\" font-size=\"14.00\" fill=\"#000000\">samples = 170</text>\n<text text-anchor=\"middle\" x=\"668\" y=\"-126.8\" font-family=\"Helvetica,sans-Serif\" font-size=\"14.00\" fill=\"#000000\">value = [0, 20, 150]</text>\n<text text-anchor=\"middle\" x=\"668\" y=\"-111.8\" font-family=\"Helvetica,sans-Serif\" font-size=\"14.00\" fill=\"#000000\">class = Amarillo</text>\n</g>\n<!-- 9&#45;&gt;10 -->\n<g id=\"edge10\" class=\"edge\">\n<title>9&#45;&gt;10</title>\n<path fill=\"none\" stroke=\"#000000\" d=\"M668,-222.8796C668,-214.6838 668,-205.9891 668,-197.5013\"/>\n<polygon fill=\"#000000\" stroke=\"#000000\" points=\"671.5001,-197.298 668,-187.2981 664.5001,-197.2981 671.5001,-197.298\"/>\n</g>\n<!-- 13 -->\n<g id=\"node14\" class=\"node\">\n<title>13</title>\n<path fill=\"#39e581\" stroke=\"#000000\" d=\"M919.5,-179.5C919.5,-179.5 820.5,-179.5 820.5,-179.5 814.5,-179.5 808.5,-173.5 808.5,-167.5 808.5,-167.5 808.5,-123.5 808.5,-123.5 808.5,-117.5 814.5,-111.5 820.5,-111.5 820.5,-111.5 919.5,-111.5 919.5,-111.5 925.5,-111.5 931.5,-117.5 931.5,-123.5 931.5,-123.5 931.5,-167.5 931.5,-167.5 931.5,-173.5 925.5,-179.5 919.5,-179.5\"/>\n<text text-anchor=\"middle\" x=\"870\" y=\"-164.3\" font-family=\"Helvetica,sans-Serif\" font-size=\"14.00\" fill=\"#000000\">gini = 0.0</text>\n<text text-anchor=\"middle\" x=\"870\" y=\"-149.3\" font-family=\"Helvetica,sans-Serif\" font-size=\"14.00\" fill=\"#000000\">samples = 32</text>\n<text text-anchor=\"middle\" x=\"870\" y=\"-134.3\" font-family=\"Helvetica,sans-Serif\" font-size=\"14.00\" fill=\"#000000\">value = [0, 32, 0]</text>\n<text text-anchor=\"middle\" x=\"870\" y=\"-119.3\" font-family=\"Helvetica,sans-Serif\" font-size=\"14.00\" fill=\"#000000\">class = Rojo</text>\n</g>\n<!-- 9&#45;&gt;13 -->\n<g id=\"edge13\" class=\"edge\">\n<title>9&#45;&gt;13</title>\n<path fill=\"none\" stroke=\"#000000\" d=\"M738.9352,-222.927C758.7125,-211.3159 780.2019,-198.6806 800,-187 801.1293,-186.3337 802.2688,-185.6612 803.4162,-184.9837\"/>\n<polygon fill=\"#000000\" stroke=\"#000000\" points=\"805.5019,-187.8167 812.3305,-179.716 801.9407,-181.7902 805.5019,-187.8167\"/>\n</g>\n<!-- 11 -->\n<g id=\"node12\" class=\"node\">\n<title>11</title>\n<path fill=\"#8946e7\" stroke=\"#000000\" d=\"M726,-68C726,-68 610,-68 610,-68 604,-68 598,-62 598,-56 598,-56 598,-12 598,-12 598,-6 604,0 610,0 610,0 726,0 726,0 732,0 738,-6 738,-12 738,-12 738,-56 738,-56 738,-62 732,-68 726,-68\"/>\n<text text-anchor=\"middle\" x=\"668\" y=\"-52.8\" font-family=\"Helvetica,sans-Serif\" font-size=\"14.00\" fill=\"#000000\">gini = 0.117</text>\n<text text-anchor=\"middle\" x=\"668\" y=\"-37.8\" font-family=\"Helvetica,sans-Serif\" font-size=\"14.00\" fill=\"#000000\">samples = 160</text>\n<text text-anchor=\"middle\" x=\"668\" y=\"-22.8\" font-family=\"Helvetica,sans-Serif\" font-size=\"14.00\" fill=\"#000000\">value = [0, 10, 150]</text>\n<text text-anchor=\"middle\" x=\"668\" y=\"-7.8\" font-family=\"Helvetica,sans-Serif\" font-size=\"14.00\" fill=\"#000000\">class = Amarillo</text>\n</g>\n<!-- 10&#45;&gt;11 -->\n<g id=\"edge11\" class=\"edge\">\n<title>10&#45;&gt;11</title>\n<path fill=\"none\" stroke=\"#000000\" d=\"M668,-103.9815C668,-95.618 668,-86.7965 668,-78.3409\"/>\n<polygon fill=\"#000000\" stroke=\"#000000\" points=\"671.5001,-78.2636 668,-68.2637 664.5001,-78.2637 671.5001,-78.2636\"/>\n</g>\n<!-- 12 -->\n<g id=\"node13\" class=\"node\">\n<title>12</title>\n<path fill=\"#39e581\" stroke=\"#000000\" d=\"M867.5,-68C867.5,-68 768.5,-68 768.5,-68 762.5,-68 756.5,-62 756.5,-56 756.5,-56 756.5,-12 756.5,-12 756.5,-6 762.5,0 768.5,0 768.5,0 867.5,0 867.5,0 873.5,0 879.5,-6 879.5,-12 879.5,-12 879.5,-56 879.5,-56 879.5,-62 873.5,-68 867.5,-68\"/>\n<text text-anchor=\"middle\" x=\"818\" y=\"-52.8\" font-family=\"Helvetica,sans-Serif\" font-size=\"14.00\" fill=\"#000000\">gini = 0.0</text>\n<text text-anchor=\"middle\" x=\"818\" y=\"-37.8\" font-family=\"Helvetica,sans-Serif\" font-size=\"14.00\" fill=\"#000000\">samples = 10</text>\n<text text-anchor=\"middle\" x=\"818\" y=\"-22.8\" font-family=\"Helvetica,sans-Serif\" font-size=\"14.00\" fill=\"#000000\">value = [0, 10, 0]</text>\n<text text-anchor=\"middle\" x=\"818\" y=\"-7.8\" font-family=\"Helvetica,sans-Serif\" font-size=\"14.00\" fill=\"#000000\">class = Rojo</text>\n</g>\n<!-- 10&#45;&gt;12 -->\n<g id=\"edge12\" class=\"edge\">\n<title>10&#45;&gt;12</title>\n<path fill=\"none\" stroke=\"#000000\" d=\"M723.8545,-103.9815C736.8368,-94.3313 750.6394,-84.0714 763.5597,-74.4673\"/>\n<polygon fill=\"#000000\" stroke=\"#000000\" points=\"765.9678,-77.0384 771.9054,-68.2637 761.7917,-71.4204 765.9678,-77.0384\"/>\n</g>\n</g>\n</svg>\n"
          },
          "metadata": {},
          "execution_count": 57
        }
      ]
    },
    {
      "cell_type": "code",
      "source": [
        "!dot -Tpng {\"aguas_subterraneas.dot\"} -o {\"aguas_subterraneas.png\"}"
      ],
      "metadata": {
        "id": "6icbjcHTK2Dz"
      },
      "execution_count": 58,
      "outputs": []
    },
    {
      "cell_type": "code",
      "source": [
        "from sklearn.tree import DecisionTreeRegressor"
      ],
      "metadata": {
        "id": "HnLkpugSLqIC"
      },
      "execution_count": 47,
      "outputs": []
    },
    {
      "cell_type": "code",
      "source": [
        "tree_reg = DecisionTreeRegressor(max_depth=4, random_state=42)\n",
        "tree_reg.fit(X, y)"
      ],
      "metadata": {
        "colab": {
          "base_uri": "https://localhost:8080/"
        },
        "id": "2LUJ0Ba7Th4z",
        "outputId": "3e68ae51-3f92-4f83-d36c-aba36a7dd6b8"
      },
      "execution_count": 65,
      "outputs": [
        {
          "output_type": "execute_result",
          "data": {
            "text/plain": [
              "DecisionTreeRegressor(max_depth=4, random_state=42)"
            ]
          },
          "metadata": {},
          "execution_count": 65
        }
      ]
    },
    {
      "cell_type": "code",
      "source": [
        "importancia=pd.DataFrame(tree_reg.feature_importances_,columns=['importancia'])\n",
        "importancia['nombres']=columnas\n",
        "importancia.sort_values(by='importancia', ascending=False)"
      ],
      "metadata": {
        "colab": {
          "base_uri": "https://localhost:8080/",
          "height": 488
        },
        "id": "3H_ikfwfTxlf",
        "outputId": "e7a9bcbb-496f-49da-8878-aed81f838812"
      },
      "execution_count": 66,
      "outputs": [
        {
          "output_type": "execute_result",
          "data": {
            "text/plain": [
              "    importancia              nombres\n",
              "4      0.434251             DUR_mg/L\n",
              "12     0.191849          MN_TOT_mg/L\n",
              "3      0.175533       FLUORUROS_mg/L\n",
              "13     0.121840          FE_TOT_mg/L\n",
              "6      0.043786           N_NO3_mg/L\n",
              "5      0.025294  COLI_FEC_NMP/100_mL\n",
              "7      0.007447          AS_TOT_mg/L\n",
              "0      0.000000             ALC_mg/L\n",
              "1      0.000000        CONDUCT_mS/cm\n",
              "2      0.000000           SDT_M_mg/L\n",
              "8      0.000000          CD_TOT_mg/L\n",
              "9      0.000000          CR_TOT_mg/L\n",
              "10     0.000000          HG_TOT_mg/L\n",
              "11     0.000000          PB_TOT_mg/L"
            ],
            "text/html": [
              "\n",
              "  <div id=\"df-d0429e01-bb90-4aa5-84d9-40a2ca349320\">\n",
              "    <div class=\"colab-df-container\">\n",
              "      <div>\n",
              "<style scoped>\n",
              "    .dataframe tbody tr th:only-of-type {\n",
              "        vertical-align: middle;\n",
              "    }\n",
              "\n",
              "    .dataframe tbody tr th {\n",
              "        vertical-align: top;\n",
              "    }\n",
              "\n",
              "    .dataframe thead th {\n",
              "        text-align: right;\n",
              "    }\n",
              "</style>\n",
              "<table border=\"1\" class=\"dataframe\">\n",
              "  <thead>\n",
              "    <tr style=\"text-align: right;\">\n",
              "      <th></th>\n",
              "      <th>importancia</th>\n",
              "      <th>nombres</th>\n",
              "    </tr>\n",
              "  </thead>\n",
              "  <tbody>\n",
              "    <tr>\n",
              "      <th>4</th>\n",
              "      <td>0.434251</td>\n",
              "      <td>DUR_mg/L</td>\n",
              "    </tr>\n",
              "    <tr>\n",
              "      <th>12</th>\n",
              "      <td>0.191849</td>\n",
              "      <td>MN_TOT_mg/L</td>\n",
              "    </tr>\n",
              "    <tr>\n",
              "      <th>3</th>\n",
              "      <td>0.175533</td>\n",
              "      <td>FLUORUROS_mg/L</td>\n",
              "    </tr>\n",
              "    <tr>\n",
              "      <th>13</th>\n",
              "      <td>0.121840</td>\n",
              "      <td>FE_TOT_mg/L</td>\n",
              "    </tr>\n",
              "    <tr>\n",
              "      <th>6</th>\n",
              "      <td>0.043786</td>\n",
              "      <td>N_NO3_mg/L</td>\n",
              "    </tr>\n",
              "    <tr>\n",
              "      <th>5</th>\n",
              "      <td>0.025294</td>\n",
              "      <td>COLI_FEC_NMP/100_mL</td>\n",
              "    </tr>\n",
              "    <tr>\n",
              "      <th>7</th>\n",
              "      <td>0.007447</td>\n",
              "      <td>AS_TOT_mg/L</td>\n",
              "    </tr>\n",
              "    <tr>\n",
              "      <th>0</th>\n",
              "      <td>0.000000</td>\n",
              "      <td>ALC_mg/L</td>\n",
              "    </tr>\n",
              "    <tr>\n",
              "      <th>1</th>\n",
              "      <td>0.000000</td>\n",
              "      <td>CONDUCT_mS/cm</td>\n",
              "    </tr>\n",
              "    <tr>\n",
              "      <th>2</th>\n",
              "      <td>0.000000</td>\n",
              "      <td>SDT_M_mg/L</td>\n",
              "    </tr>\n",
              "    <tr>\n",
              "      <th>8</th>\n",
              "      <td>0.000000</td>\n",
              "      <td>CD_TOT_mg/L</td>\n",
              "    </tr>\n",
              "    <tr>\n",
              "      <th>9</th>\n",
              "      <td>0.000000</td>\n",
              "      <td>CR_TOT_mg/L</td>\n",
              "    </tr>\n",
              "    <tr>\n",
              "      <th>10</th>\n",
              "      <td>0.000000</td>\n",
              "      <td>HG_TOT_mg/L</td>\n",
              "    </tr>\n",
              "    <tr>\n",
              "      <th>11</th>\n",
              "      <td>0.000000</td>\n",
              "      <td>PB_TOT_mg/L</td>\n",
              "    </tr>\n",
              "  </tbody>\n",
              "</table>\n",
              "</div>\n",
              "      <button class=\"colab-df-convert\" onclick=\"convertToInteractive('df-d0429e01-bb90-4aa5-84d9-40a2ca349320')\"\n",
              "              title=\"Convert this dataframe to an interactive table.\"\n",
              "              style=\"display:none;\">\n",
              "        \n",
              "  <svg xmlns=\"http://www.w3.org/2000/svg\" height=\"24px\"viewBox=\"0 0 24 24\"\n",
              "       width=\"24px\">\n",
              "    <path d=\"M0 0h24v24H0V0z\" fill=\"none\"/>\n",
              "    <path d=\"M18.56 5.44l.94 2.06.94-2.06 2.06-.94-2.06-.94-.94-2.06-.94 2.06-2.06.94zm-11 1L8.5 8.5l.94-2.06 2.06-.94-2.06-.94L8.5 2.5l-.94 2.06-2.06.94zm10 10l.94 2.06.94-2.06 2.06-.94-2.06-.94-.94-2.06-.94 2.06-2.06.94z\"/><path d=\"M17.41 7.96l-1.37-1.37c-.4-.4-.92-.59-1.43-.59-.52 0-1.04.2-1.43.59L10.3 9.45l-7.72 7.72c-.78.78-.78 2.05 0 2.83L4 21.41c.39.39.9.59 1.41.59.51 0 1.02-.2 1.41-.59l7.78-7.78 2.81-2.81c.8-.78.8-2.07 0-2.86zM5.41 20L4 18.59l7.72-7.72 1.47 1.35L5.41 20z\"/>\n",
              "  </svg>\n",
              "      </button>\n",
              "      \n",
              "  <style>\n",
              "    .colab-df-container {\n",
              "      display:flex;\n",
              "      flex-wrap:wrap;\n",
              "      gap: 12px;\n",
              "    }\n",
              "\n",
              "    .colab-df-convert {\n",
              "      background-color: #E8F0FE;\n",
              "      border: none;\n",
              "      border-radius: 50%;\n",
              "      cursor: pointer;\n",
              "      display: none;\n",
              "      fill: #1967D2;\n",
              "      height: 32px;\n",
              "      padding: 0 0 0 0;\n",
              "      width: 32px;\n",
              "    }\n",
              "\n",
              "    .colab-df-convert:hover {\n",
              "      background-color: #E2EBFA;\n",
              "      box-shadow: 0px 1px 2px rgba(60, 64, 67, 0.3), 0px 1px 3px 1px rgba(60, 64, 67, 0.15);\n",
              "      fill: #174EA6;\n",
              "    }\n",
              "\n",
              "    [theme=dark] .colab-df-convert {\n",
              "      background-color: #3B4455;\n",
              "      fill: #D2E3FC;\n",
              "    }\n",
              "\n",
              "    [theme=dark] .colab-df-convert:hover {\n",
              "      background-color: #434B5C;\n",
              "      box-shadow: 0px 1px 3px 1px rgba(0, 0, 0, 0.15);\n",
              "      filter: drop-shadow(0px 1px 2px rgba(0, 0, 0, 0.3));\n",
              "      fill: #FFFFFF;\n",
              "    }\n",
              "  </style>\n",
              "\n",
              "      <script>\n",
              "        const buttonEl =\n",
              "          document.querySelector('#df-d0429e01-bb90-4aa5-84d9-40a2ca349320 button.colab-df-convert');\n",
              "        buttonEl.style.display =\n",
              "          google.colab.kernel.accessAllowed ? 'block' : 'none';\n",
              "\n",
              "        async function convertToInteractive(key) {\n",
              "          const element = document.querySelector('#df-d0429e01-bb90-4aa5-84d9-40a2ca349320');\n",
              "          const dataTable =\n",
              "            await google.colab.kernel.invokeFunction('convertToInteractive',\n",
              "                                                     [key], {});\n",
              "          if (!dataTable) return;\n",
              "\n",
              "          const docLinkHtml = 'Like what you see? Visit the ' +\n",
              "            '<a target=\"_blank\" href=https://colab.research.google.com/notebooks/data_table.ipynb>data table notebook</a>'\n",
              "            + ' to learn more about interactive tables.';\n",
              "          element.innerHTML = '';\n",
              "          dataTable['output_type'] = 'display_data';\n",
              "          await google.colab.output.renderOutput(dataTable, element);\n",
              "          const docLink = document.createElement('div');\n",
              "          docLink.innerHTML = docLinkHtml;\n",
              "          element.appendChild(docLink);\n",
              "        }\n",
              "      </script>\n",
              "    </div>\n",
              "  </div>\n",
              "  "
            ]
          },
          "metadata": {},
          "execution_count": 66
        }
      ]
    },
    {
      "cell_type": "code",
      "source": [
        "export_graphviz(\n",
        "    tree_reg,\n",
        "    out_file=str(\"regression_tree.dot\"),\n",
        "    feature_names=columnas,\n",
        "    rounded=True,\n",
        "    filled=True\n",
        ")\n",
        "\n",
        "Source.from_file(\"regression_tree.dot\")\n",
        "\n"
      ],
      "metadata": {
        "colab": {
          "base_uri": "https://localhost:8080/",
          "height": 678
        },
        "id": "pBQ-DHdxVI5Z",
        "outputId": "d231f27b-502b-4823-da80-5f5f235fed43"
      },
      "execution_count": 67,
      "outputs": [
        {
          "output_type": "execute_result",
          "data": {
            "text/plain": [
              "<graphviz.files.Source at 0x7f8259593510>"
            ],
            "image/svg+xml": "<?xml version=\"1.0\" encoding=\"UTF-8\" standalone=\"no\"?>\n<!DOCTYPE svg PUBLIC \"-//W3C//DTD SVG 1.1//EN\"\n \"http://www.w3.org/Graphics/SVG/1.1/DTD/svg11.dtd\">\n<!-- Generated by graphviz version 2.40.1 (20161225.0304)\n -->\n<!-- Title: Tree Pages: 1 -->\n<svg width=\"1507pt\" height=\"477pt\"\n viewBox=\"0.00 0.00 1507.00 477.00\" xmlns=\"http://www.w3.org/2000/svg\" xmlns:xlink=\"http://www.w3.org/1999/xlink\">\n<g id=\"graph0\" class=\"graph\" transform=\"scale(1 1) rotate(0) translate(4 473)\">\n<title>Tree</title>\n<polygon fill=\"#ffffff\" stroke=\"transparent\" points=\"-4,4 -4,-473 1503,-473 1503,4 -4,4\"/>\n<!-- 0 -->\n<g id=\"node1\" class=\"node\">\n<title>0</title>\n<path fill=\"#f6d5bc\" stroke=\"#000000\" d=\"M1177.5,-469C1177.5,-469 1036.5,-469 1036.5,-469 1030.5,-469 1024.5,-463 1024.5,-457 1024.5,-457 1024.5,-413 1024.5,-413 1024.5,-407 1030.5,-401 1036.5,-401 1036.5,-401 1177.5,-401 1177.5,-401 1183.5,-401 1189.5,-407 1189.5,-413 1189.5,-413 1189.5,-457 1189.5,-457 1189.5,-463 1183.5,-469 1177.5,-469\"/>\n<text text-anchor=\"middle\" x=\"1107\" y=\"-453.8\" font-family=\"Helvetica,sans-Serif\" font-size=\"14.00\" fill=\"#000000\">DUR_mg/L &lt;= 500.305</text>\n<text text-anchor=\"middle\" x=\"1107\" y=\"-438.8\" font-family=\"Helvetica,sans-Serif\" font-size=\"14.00\" fill=\"#000000\">squared_error = 0.608</text>\n<text text-anchor=\"middle\" x=\"1107\" y=\"-423.8\" font-family=\"Helvetica,sans-Serif\" font-size=\"14.00\" fill=\"#000000\">samples = 1054</text>\n<text text-anchor=\"middle\" x=\"1107\" y=\"-408.8\" font-family=\"Helvetica,sans-Serif\" font-size=\"14.00\" fill=\"#000000\">value = 0.827</text>\n</g>\n<!-- 1 -->\n<g id=\"node2\" class=\"node\">\n<title>1</title>\n<path fill=\"#fae6d7\" stroke=\"#000000\" d=\"M970.5,-365C970.5,-365 817.5,-365 817.5,-365 811.5,-365 805.5,-359 805.5,-353 805.5,-353 805.5,-309 805.5,-309 805.5,-303 811.5,-297 817.5,-297 817.5,-297 970.5,-297 970.5,-297 976.5,-297 982.5,-303 982.5,-309 982.5,-309 982.5,-353 982.5,-353 982.5,-359 976.5,-365 970.5,-365\"/>\n<text text-anchor=\"middle\" x=\"894\" y=\"-349.8\" font-family=\"Helvetica,sans-Serif\" font-size=\"14.00\" fill=\"#000000\">MN_TOT_mg/L &lt;= 0.122</text>\n<text text-anchor=\"middle\" x=\"894\" y=\"-334.8\" font-family=\"Helvetica,sans-Serif\" font-size=\"14.00\" fill=\"#000000\">squared_error = 0.469</text>\n<text text-anchor=\"middle\" x=\"894\" y=\"-319.8\" font-family=\"Helvetica,sans-Serif\" font-size=\"14.00\" fill=\"#000000\">samples = 829</text>\n<text text-anchor=\"middle\" x=\"894\" y=\"-304.8\" font-family=\"Helvetica,sans-Serif\" font-size=\"14.00\" fill=\"#000000\">value = 0.6</text>\n</g>\n<!-- 0&#45;&gt;1 -->\n<g id=\"edge1\" class=\"edge\">\n<title>0&#45;&gt;1</title>\n<path fill=\"none\" stroke=\"#000000\" d=\"M1037.2558,-400.9465C1016.7524,-390.9354 994.1773,-379.9129 973.1318,-369.6371\"/>\n<polygon fill=\"#000000\" stroke=\"#000000\" points=\"974.4226,-366.3725 963.9009,-365.13 971.3513,-372.6627 974.4226,-366.3725\"/>\n<text text-anchor=\"middle\" x=\"972.0299\" y=\"-385.0714\" font-family=\"Helvetica,sans-Serif\" font-size=\"14.00\" fill=\"#000000\">True</text>\n</g>\n<!-- 14 -->\n<g id=\"node15\" class=\"node\">\n<title>14</title>\n<path fill=\"#e99559\" stroke=\"#000000\" d=\"M1289,-365C1289,-365 1139,-365 1139,-365 1133,-365 1127,-359 1127,-353 1127,-353 1127,-309 1127,-309 1127,-303 1133,-297 1139,-297 1139,-297 1289,-297 1289,-297 1295,-297 1301,-303 1301,-309 1301,-309 1301,-353 1301,-353 1301,-359 1295,-365 1289,-365\"/>\n<text text-anchor=\"middle\" x=\"1214\" y=\"-349.8\" font-family=\"Helvetica,sans-Serif\" font-size=\"14.00\" fill=\"#000000\">N_NO3_mg/L &lt;= 11.173</text>\n<text text-anchor=\"middle\" x=\"1214\" y=\"-334.8\" font-family=\"Helvetica,sans-Serif\" font-size=\"14.00\" fill=\"#000000\">squared_error = 0.222</text>\n<text text-anchor=\"middle\" x=\"1214\" y=\"-319.8\" font-family=\"Helvetica,sans-Serif\" font-size=\"14.00\" fill=\"#000000\">samples = 225</text>\n<text text-anchor=\"middle\" x=\"1214\" y=\"-304.8\" font-family=\"Helvetica,sans-Serif\" font-size=\"14.00\" fill=\"#000000\">value = 1.667</text>\n</g>\n<!-- 0&#45;&gt;14 -->\n<g id=\"edge14\" class=\"edge\">\n<title>0&#45;&gt;14</title>\n<path fill=\"none\" stroke=\"#000000\" d=\"M1142.0358,-400.9465C1151.4581,-391.7884 1161.7513,-381.7838 1171.5304,-372.2788\"/>\n<polygon fill=\"#000000\" stroke=\"#000000\" points=\"1174.154,-374.6097 1178.8855,-365.13 1169.2751,-369.59 1174.154,-374.6097\"/>\n<text text-anchor=\"middle\" x=\"1178.5301\" y=\"-386.4275\" font-family=\"Helvetica,sans-Serif\" font-size=\"14.00\" fill=\"#000000\">False</text>\n</g>\n<!-- 2 -->\n<g id=\"node3\" class=\"node\">\n<title>2</title>\n<path fill=\"#fbede2\" stroke=\"#000000\" d=\"M585.5,-261C585.5,-261 436.5,-261 436.5,-261 430.5,-261 424.5,-255 424.5,-249 424.5,-249 424.5,-205 424.5,-205 424.5,-199 430.5,-193 436.5,-193 436.5,-193 585.5,-193 585.5,-193 591.5,-193 597.5,-199 597.5,-205 597.5,-205 597.5,-249 597.5,-249 597.5,-255 591.5,-261 585.5,-261\"/>\n<text text-anchor=\"middle\" x=\"511\" y=\"-245.8\" font-family=\"Helvetica,sans-Serif\" font-size=\"14.00\" fill=\"#000000\">FE_TOT_mg/L &lt;= 0.301</text>\n<text text-anchor=\"middle\" x=\"511\" y=\"-230.8\" font-family=\"Helvetica,sans-Serif\" font-size=\"14.00\" fill=\"#000000\">squared_error = 0.376</text>\n<text text-anchor=\"middle\" x=\"511\" y=\"-215.8\" font-family=\"Helvetica,sans-Serif\" font-size=\"14.00\" fill=\"#000000\">samples = 764</text>\n<text text-anchor=\"middle\" x=\"511\" y=\"-200.8\" font-family=\"Helvetica,sans-Serif\" font-size=\"14.00\" fill=\"#000000\">value = 0.504</text>\n</g>\n<!-- 1&#45;&gt;2 -->\n<g id=\"edge2\" class=\"edge\">\n<title>1&#45;&gt;2</title>\n<path fill=\"none\" stroke=\"#000000\" d=\"M805.1694,-306.8789C746.0345,-290.8214 668.3549,-269.7282 607.6701,-253.2498\"/>\n<polygon fill=\"#000000\" stroke=\"#000000\" points=\"608.267,-249.7852 597.6992,-250.5423 606.4326,-256.5406 608.267,-249.7852\"/>\n</g>\n<!-- 9 -->\n<g id=\"node10\" class=\"node\">\n<title>9</title>\n<path fill=\"#e89152\" stroke=\"#000000\" d=\"M969,-261C969,-261 819,-261 819,-261 813,-261 807,-255 807,-249 807,-249 807,-205 807,-205 807,-199 813,-193 819,-193 819,-193 969,-193 969,-193 975,-193 981,-199 981,-205 981,-205 981,-249 981,-249 981,-255 975,-261 969,-261\"/>\n<text text-anchor=\"middle\" x=\"894\" y=\"-245.8\" font-family=\"Helvetica,sans-Serif\" font-size=\"14.00\" fill=\"#000000\">AS_TOT_mg/L &lt;= 0.027</text>\n<text text-anchor=\"middle\" x=\"894\" y=\"-230.8\" font-family=\"Helvetica,sans-Serif\" font-size=\"14.00\" fill=\"#000000\">squared_error = 0.2</text>\n<text text-anchor=\"middle\" x=\"894\" y=\"-215.8\" font-family=\"Helvetica,sans-Serif\" font-size=\"14.00\" fill=\"#000000\">samples = 65</text>\n<text text-anchor=\"middle\" x=\"894\" y=\"-200.8\" font-family=\"Helvetica,sans-Serif\" font-size=\"14.00\" fill=\"#000000\">value = 1.723</text>\n</g>\n<!-- 1&#45;&gt;9 -->\n<g id=\"edge9\" class=\"edge\">\n<title>1&#45;&gt;9</title>\n<path fill=\"none\" stroke=\"#000000\" d=\"M894,-296.9465C894,-288.776 894,-279.9318 894,-271.3697\"/>\n<polygon fill=\"#000000\" stroke=\"#000000\" points=\"897.5001,-271.13 894,-261.13 890.5001,-271.13 897.5001,-271.13\"/>\n</g>\n<!-- 3 -->\n<g id=\"node4\" class=\"node\">\n<title>3</title>\n<path fill=\"#fdf3ec\" stroke=\"#000000\" d=\"M343.5,-157C343.5,-157 158.5,-157 158.5,-157 152.5,-157 146.5,-151 146.5,-145 146.5,-145 146.5,-101 146.5,-101 146.5,-95 152.5,-89 158.5,-89 158.5,-89 343.5,-89 343.5,-89 349.5,-89 355.5,-95 355.5,-101 355.5,-101 355.5,-145 355.5,-145 355.5,-151 349.5,-157 343.5,-157\"/>\n<text text-anchor=\"middle\" x=\"251\" y=\"-141.8\" font-family=\"Helvetica,sans-Serif\" font-size=\"14.00\" fill=\"#000000\">FLUORUROS_mg/L &lt;= 1.484</text>\n<text text-anchor=\"middle\" x=\"251\" y=\"-126.8\" font-family=\"Helvetica,sans-Serif\" font-size=\"14.00\" fill=\"#000000\">squared_error = 0.307</text>\n<text text-anchor=\"middle\" x=\"251\" y=\"-111.8\" font-family=\"Helvetica,sans-Serif\" font-size=\"14.00\" fill=\"#000000\">samples = 702</text>\n<text text-anchor=\"middle\" x=\"251\" y=\"-96.8\" font-family=\"Helvetica,sans-Serif\" font-size=\"14.00\" fill=\"#000000\">value = 0.423</text>\n</g>\n<!-- 2&#45;&gt;3 -->\n<g id=\"edge3\" class=\"edge\">\n<title>2&#45;&gt;3</title>\n<path fill=\"none\" stroke=\"#000000\" d=\"M425.8663,-192.9465C400.2775,-182.711 372.0452,-171.4181 345.8677,-160.9471\"/>\n<polygon fill=\"#000000\" stroke=\"#000000\" points=\"346.9097,-157.5943 336.325,-157.13 344.3099,-164.0936 346.9097,-157.5943\"/>\n</g>\n<!-- 6 -->\n<g id=\"node7\" class=\"node\">\n<title>6</title>\n<path fill=\"#eda876\" stroke=\"#000000\" d=\"M603.5,-157C603.5,-157 418.5,-157 418.5,-157 412.5,-157 406.5,-151 406.5,-145 406.5,-145 406.5,-101 406.5,-101 406.5,-95 412.5,-89 418.5,-89 418.5,-89 603.5,-89 603.5,-89 609.5,-89 615.5,-95 615.5,-101 615.5,-101 615.5,-145 615.5,-145 615.5,-151 609.5,-157 603.5,-157\"/>\n<text text-anchor=\"middle\" x=\"511\" y=\"-141.8\" font-family=\"Helvetica,sans-Serif\" font-size=\"14.00\" fill=\"#000000\">FLUORUROS_mg/L &lt;= 0.614</text>\n<text text-anchor=\"middle\" x=\"511\" y=\"-126.8\" font-family=\"Helvetica,sans-Serif\" font-size=\"14.00\" fill=\"#000000\">squared_error = 0.243</text>\n<text text-anchor=\"middle\" x=\"511\" y=\"-111.8\" font-family=\"Helvetica,sans-Serif\" font-size=\"14.00\" fill=\"#000000\">samples = 62</text>\n<text text-anchor=\"middle\" x=\"511\" y=\"-96.8\" font-family=\"Helvetica,sans-Serif\" font-size=\"14.00\" fill=\"#000000\">value = 1.419</text>\n</g>\n<!-- 2&#45;&gt;6 -->\n<g id=\"edge6\" class=\"edge\">\n<title>2&#45;&gt;6</title>\n<path fill=\"none\" stroke=\"#000000\" d=\"M511,-192.9465C511,-184.776 511,-175.9318 511,-167.3697\"/>\n<polygon fill=\"#000000\" stroke=\"#000000\" points=\"514.5001,-167.13 511,-157.13 507.5001,-167.13 514.5001,-167.13\"/>\n</g>\n<!-- 4 -->\n<g id=\"node5\" class=\"node\">\n<title>4</title>\n<path fill=\"#ffffff\" stroke=\"#000000\" d=\"M140,-53C140,-53 12,-53 12,-53 6,-53 0,-47 0,-41 0,-41 0,-12 0,-12 0,-6 6,0 12,0 12,0 140,0 140,0 146,0 152,-6 152,-12 152,-12 152,-41 152,-41 152,-47 146,-53 140,-53\"/>\n<text text-anchor=\"middle\" x=\"76\" y=\"-37.8\" font-family=\"Helvetica,sans-Serif\" font-size=\"14.00\" fill=\"#000000\">squared_error = 0.27</text>\n<text text-anchor=\"middle\" x=\"76\" y=\"-22.8\" font-family=\"Helvetica,sans-Serif\" font-size=\"14.00\" fill=\"#000000\">samples = 549</text>\n<text text-anchor=\"middle\" x=\"76\" y=\"-7.8\" font-family=\"Helvetica,sans-Serif\" font-size=\"14.00\" fill=\"#000000\">value = 0.262</text>\n</g>\n<!-- 3&#45;&gt;4 -->\n<g id=\"edge4\" class=\"edge\">\n<title>3&#45;&gt;4</title>\n<path fill=\"none\" stroke=\"#000000\" d=\"M189.3015,-88.9777C171.1173,-78.9504 151.3003,-68.0228 133.3979,-58.1508\"/>\n<polygon fill=\"#000000\" stroke=\"#000000\" points=\"134.6763,-54.859 124.2293,-53.095 131.2961,-60.9888 134.6763,-54.859\"/>\n</g>\n<!-- 5 -->\n<g id=\"node6\" class=\"node\">\n<title>5</title>\n<path fill=\"#f4c8a8\" stroke=\"#000000\" d=\"M319.5,-53C319.5,-53 182.5,-53 182.5,-53 176.5,-53 170.5,-47 170.5,-41 170.5,-41 170.5,-12 170.5,-12 170.5,-6 176.5,0 182.5,0 182.5,0 319.5,0 319.5,0 325.5,0 331.5,-6 331.5,-12 331.5,-12 331.5,-41 331.5,-41 331.5,-47 325.5,-53 319.5,-53\"/>\n<text text-anchor=\"middle\" x=\"251\" y=\"-37.8\" font-family=\"Helvetica,sans-Serif\" font-size=\"14.00\" fill=\"#000000\">squared_error = 0.013</text>\n<text text-anchor=\"middle\" x=\"251\" y=\"-22.8\" font-family=\"Helvetica,sans-Serif\" font-size=\"14.00\" fill=\"#000000\">samples = 153</text>\n<text text-anchor=\"middle\" x=\"251\" y=\"-7.8\" font-family=\"Helvetica,sans-Serif\" font-size=\"14.00\" fill=\"#000000\">value = 1.0</text>\n</g>\n<!-- 3&#45;&gt;5 -->\n<g id=\"edge5\" class=\"edge\">\n<title>3&#45;&gt;5</title>\n<path fill=\"none\" stroke=\"#000000\" d=\"M251,-88.9777C251,-80.7364 251,-71.887 251,-63.5153\"/>\n<polygon fill=\"#000000\" stroke=\"#000000\" points=\"254.5001,-63.2484 251,-53.2485 247.5001,-63.2485 254.5001,-63.2484\"/>\n</g>\n<!-- 7 -->\n<g id=\"node8\" class=\"node\">\n<title>7</title>\n<path fill=\"#e99559\" stroke=\"#000000\" d=\"M498.5,-53C498.5,-53 361.5,-53 361.5,-53 355.5,-53 349.5,-47 349.5,-41 349.5,-41 349.5,-12 349.5,-12 349.5,-6 355.5,0 361.5,0 361.5,0 498.5,0 498.5,0 504.5,0 510.5,-6 510.5,-12 510.5,-12 510.5,-41 510.5,-41 510.5,-47 504.5,-53 498.5,-53\"/>\n<text text-anchor=\"middle\" x=\"430\" y=\"-37.8\" font-family=\"Helvetica,sans-Serif\" font-size=\"14.00\" fill=\"#000000\">squared_error = 0.222</text>\n<text text-anchor=\"middle\" x=\"430\" y=\"-22.8\" font-family=\"Helvetica,sans-Serif\" font-size=\"14.00\" fill=\"#000000\">samples = 33</text>\n<text text-anchor=\"middle\" x=\"430\" y=\"-7.8\" font-family=\"Helvetica,sans-Serif\" font-size=\"14.00\" fill=\"#000000\">value = 1.667</text>\n</g>\n<!-- 6&#45;&gt;7 -->\n<g id=\"edge7\" class=\"edge\">\n<title>6&#45;&gt;7</title>\n<path fill=\"none\" stroke=\"#000000\" d=\"M482.4424,-88.9777C474.8331,-79.9123 466.6061,-70.111 458.9747,-61.0192\"/>\n<polygon fill=\"#000000\" stroke=\"#000000\" points=\"461.562,-58.6577 452.4521,-53.2485 456.2005,-63.1581 461.562,-58.6577\"/>\n</g>\n<!-- 8 -->\n<g id=\"node9\" class=\"node\">\n<title>8</title>\n<path fill=\"#f1bd98\" stroke=\"#000000\" d=\"M677.5,-53C677.5,-53 540.5,-53 540.5,-53 534.5,-53 528.5,-47 528.5,-41 528.5,-41 528.5,-12 528.5,-12 528.5,-6 534.5,0 540.5,0 540.5,0 677.5,0 677.5,0 683.5,0 689.5,-6 689.5,-12 689.5,-12 689.5,-41 689.5,-41 689.5,-47 683.5,-53 677.5,-53\"/>\n<text text-anchor=\"middle\" x=\"609\" y=\"-37.8\" font-family=\"Helvetica,sans-Serif\" font-size=\"14.00\" fill=\"#000000\">squared_error = 0.119</text>\n<text text-anchor=\"middle\" x=\"609\" y=\"-22.8\" font-family=\"Helvetica,sans-Serif\" font-size=\"14.00\" fill=\"#000000\">samples = 29</text>\n<text text-anchor=\"middle\" x=\"609\" y=\"-7.8\" font-family=\"Helvetica,sans-Serif\" font-size=\"14.00\" fill=\"#000000\">value = 1.138</text>\n</g>\n<!-- 6&#45;&gt;8 -->\n<g id=\"edge8\" class=\"edge\">\n<title>6&#45;&gt;8</title>\n<path fill=\"none\" stroke=\"#000000\" d=\"M545.5511,-88.9777C554.9434,-79.7292 565.1136,-69.7147 574.5029,-60.4691\"/>\n<polygon fill=\"#000000\" stroke=\"#000000\" points=\"577.1661,-62.7587 581.8357,-53.2485 572.2546,-57.7709 577.1661,-62.7587\"/>\n</g>\n<!-- 10 -->\n<g id=\"node11\" class=\"node\">\n<title>10</title>\n<path fill=\"#e78c4a\" stroke=\"#000000\" d=\"M898.5,-157C898.5,-157 677.5,-157 677.5,-157 671.5,-157 665.5,-151 665.5,-145 665.5,-145 665.5,-101 665.5,-101 665.5,-95 671.5,-89 677.5,-89 677.5,-89 898.5,-89 898.5,-89 904.5,-89 910.5,-95 910.5,-101 910.5,-101 910.5,-145 910.5,-145 910.5,-151 904.5,-157 898.5,-157\"/>\n<text text-anchor=\"middle\" x=\"788\" y=\"-141.8\" font-family=\"Helvetica,sans-Serif\" font-size=\"14.00\" fill=\"#000000\">COLI_FEC_NMP/100_mL &lt;= 764.0</text>\n<text text-anchor=\"middle\" x=\"788\" y=\"-126.8\" font-family=\"Helvetica,sans-Serif\" font-size=\"14.00\" fill=\"#000000\">squared_error = 0.162</text>\n<text text-anchor=\"middle\" x=\"788\" y=\"-111.8\" font-family=\"Helvetica,sans-Serif\" font-size=\"14.00\" fill=\"#000000\">samples = 59</text>\n<text text-anchor=\"middle\" x=\"788\" y=\"-96.8\" font-family=\"Helvetica,sans-Serif\" font-size=\"14.00\" fill=\"#000000\">value = 1.797</text>\n</g>\n<!-- 9&#45;&gt;10 -->\n<g id=\"edge10\" class=\"edge\">\n<title>9&#45;&gt;10</title>\n<path fill=\"none\" stroke=\"#000000\" d=\"M859.2916,-192.9465C849.9574,-183.7884 839.7604,-173.7838 830.0727,-164.2788\"/>\n<polygon fill=\"#000000\" stroke=\"#000000\" points=\"832.3757,-161.6351 822.7863,-157.13 827.4733,-166.6318 832.3757,-161.6351\"/>\n</g>\n<!-- 13 -->\n<g id=\"node14\" class=\"node\">\n<title>13</title>\n<path fill=\"#f4c8a8\" stroke=\"#000000\" d=\"M1061,-149.5C1061,-149.5 941,-149.5 941,-149.5 935,-149.5 929,-143.5 929,-137.5 929,-137.5 929,-108.5 929,-108.5 929,-102.5 935,-96.5 941,-96.5 941,-96.5 1061,-96.5 1061,-96.5 1067,-96.5 1073,-102.5 1073,-108.5 1073,-108.5 1073,-137.5 1073,-137.5 1073,-143.5 1067,-149.5 1061,-149.5\"/>\n<text text-anchor=\"middle\" x=\"1001\" y=\"-134.3\" font-family=\"Helvetica,sans-Serif\" font-size=\"14.00\" fill=\"#000000\">squared_error = 0.0</text>\n<text text-anchor=\"middle\" x=\"1001\" y=\"-119.3\" font-family=\"Helvetica,sans-Serif\" font-size=\"14.00\" fill=\"#000000\">samples = 6</text>\n<text text-anchor=\"middle\" x=\"1001\" y=\"-104.3\" font-family=\"Helvetica,sans-Serif\" font-size=\"14.00\" fill=\"#000000\">value = 1.0</text>\n</g>\n<!-- 9&#45;&gt;13 -->\n<g id=\"edge13\" class=\"edge\">\n<title>9&#45;&gt;13</title>\n<path fill=\"none\" stroke=\"#000000\" d=\"M929.0358,-192.9465C941.0484,-181.2707 954.4766,-168.219 966.4504,-156.5809\"/>\n<polygon fill=\"#000000\" stroke=\"#000000\" points=\"968.9607,-159.0218 973.6922,-149.5422 964.0818,-154.0022 968.9607,-159.0218\"/>\n</g>\n<!-- 11 -->\n<g id=\"node12\" class=\"node\">\n<title>11</title>\n<path fill=\"#e68641\" stroke=\"#000000\" d=\"M856.5,-53C856.5,-53 719.5,-53 719.5,-53 713.5,-53 707.5,-47 707.5,-41 707.5,-41 707.5,-12 707.5,-12 707.5,-6 713.5,0 719.5,0 719.5,0 856.5,0 856.5,0 862.5,0 868.5,-6 868.5,-12 868.5,-12 868.5,-41 868.5,-41 868.5,-47 862.5,-53 856.5,-53\"/>\n<text text-anchor=\"middle\" x=\"788\" y=\"-37.8\" font-family=\"Helvetica,sans-Serif\" font-size=\"14.00\" fill=\"#000000\">squared_error = 0.113</text>\n<text text-anchor=\"middle\" x=\"788\" y=\"-22.8\" font-family=\"Helvetica,sans-Serif\" font-size=\"14.00\" fill=\"#000000\">samples = 54</text>\n<text text-anchor=\"middle\" x=\"788\" y=\"-7.8\" font-family=\"Helvetica,sans-Serif\" font-size=\"14.00\" fill=\"#000000\">value = 1.87</text>\n</g>\n<!-- 10&#45;&gt;11 -->\n<g id=\"edge11\" class=\"edge\">\n<title>10&#45;&gt;11</title>\n<path fill=\"none\" stroke=\"#000000\" d=\"M788,-88.9777C788,-80.7364 788,-71.887 788,-63.5153\"/>\n<polygon fill=\"#000000\" stroke=\"#000000\" points=\"791.5001,-63.2484 788,-53.2485 784.5001,-63.2485 791.5001,-63.2484\"/>\n</g>\n<!-- 12 -->\n<g id=\"node13\" class=\"node\">\n<title>12</title>\n<path fill=\"#f4c8a8\" stroke=\"#000000\" d=\"M1019,-53C1019,-53 899,-53 899,-53 893,-53 887,-47 887,-41 887,-41 887,-12 887,-12 887,-6 893,0 899,0 899,0 1019,0 1019,0 1025,0 1031,-6 1031,-12 1031,-12 1031,-41 1031,-41 1031,-47 1025,-53 1019,-53\"/>\n<text text-anchor=\"middle\" x=\"959\" y=\"-37.8\" font-family=\"Helvetica,sans-Serif\" font-size=\"14.00\" fill=\"#000000\">squared_error = 0.0</text>\n<text text-anchor=\"middle\" x=\"959\" y=\"-22.8\" font-family=\"Helvetica,sans-Serif\" font-size=\"14.00\" fill=\"#000000\">samples = 5</text>\n<text text-anchor=\"middle\" x=\"959\" y=\"-7.8\" font-family=\"Helvetica,sans-Serif\" font-size=\"14.00\" fill=\"#000000\">value = 1.0</text>\n</g>\n<!-- 10&#45;&gt;12 -->\n<g id=\"edge12\" class=\"edge\">\n<title>10&#45;&gt;12</title>\n<path fill=\"none\" stroke=\"#000000\" d=\"M848.2882,-88.9777C866.0568,-78.9504 885.4208,-68.0228 902.9141,-58.1508\"/>\n<polygon fill=\"#000000\" stroke=\"#000000\" points=\"904.8843,-61.0579 911.8731,-53.095 901.4439,-54.9616 904.8843,-61.0579\"/>\n</g>\n<!-- 15 -->\n<g id=\"node16\" class=\"node\">\n<title>15</title>\n<path fill=\"#e78b49\" stroke=\"#000000\" d=\"M1306.5,-261C1306.5,-261 1121.5,-261 1121.5,-261 1115.5,-261 1109.5,-255 1109.5,-249 1109.5,-249 1109.5,-205 1109.5,-205 1109.5,-199 1115.5,-193 1121.5,-193 1121.5,-193 1306.5,-193 1306.5,-193 1312.5,-193 1318.5,-199 1318.5,-205 1318.5,-205 1318.5,-249 1318.5,-249 1318.5,-255 1312.5,-261 1306.5,-261\"/>\n<text text-anchor=\"middle\" x=\"1214\" y=\"-245.8\" font-family=\"Helvetica,sans-Serif\" font-size=\"14.00\" fill=\"#000000\">FLUORUROS_mg/L &lt;= 1.527</text>\n<text text-anchor=\"middle\" x=\"1214\" y=\"-230.8\" font-family=\"Helvetica,sans-Serif\" font-size=\"14.00\" fill=\"#000000\">squared_error = 0.159</text>\n<text text-anchor=\"middle\" x=\"1214\" y=\"-215.8\" font-family=\"Helvetica,sans-Serif\" font-size=\"14.00\" fill=\"#000000\">samples = 187</text>\n<text text-anchor=\"middle\" x=\"1214\" y=\"-200.8\" font-family=\"Helvetica,sans-Serif\" font-size=\"14.00\" fill=\"#000000\">value = 1.802</text>\n</g>\n<!-- 14&#45;&gt;15 -->\n<g id=\"edge15\" class=\"edge\">\n<title>14&#45;&gt;15</title>\n<path fill=\"none\" stroke=\"#000000\" d=\"M1214,-296.9465C1214,-288.776 1214,-279.9318 1214,-271.3697\"/>\n<polygon fill=\"#000000\" stroke=\"#000000\" points=\"1217.5001,-271.13 1214,-261.13 1210.5001,-271.13 1217.5001,-271.13\"/>\n</g>\n<!-- 20 -->\n<g id=\"node21\" class=\"node\">\n<title>20</title>\n<path fill=\"#f4c8a8\" stroke=\"#000000\" d=\"M1469,-253.5C1469,-253.5 1349,-253.5 1349,-253.5 1343,-253.5 1337,-247.5 1337,-241.5 1337,-241.5 1337,-212.5 1337,-212.5 1337,-206.5 1343,-200.5 1349,-200.5 1349,-200.5 1469,-200.5 1469,-200.5 1475,-200.5 1481,-206.5 1481,-212.5 1481,-212.5 1481,-241.5 1481,-241.5 1481,-247.5 1475,-253.5 1469,-253.5\"/>\n<text text-anchor=\"middle\" x=\"1409\" y=\"-238.3\" font-family=\"Helvetica,sans-Serif\" font-size=\"14.00\" fill=\"#000000\">squared_error = 0.0</text>\n<text text-anchor=\"middle\" x=\"1409\" y=\"-223.3\" font-family=\"Helvetica,sans-Serif\" font-size=\"14.00\" fill=\"#000000\">samples = 38</text>\n<text text-anchor=\"middle\" x=\"1409\" y=\"-208.3\" font-family=\"Helvetica,sans-Serif\" font-size=\"14.00\" fill=\"#000000\">value = 1.0</text>\n</g>\n<!-- 14&#45;&gt;20 -->\n<g id=\"edge20\" class=\"edge\">\n<title>14&#45;&gt;20</title>\n<path fill=\"none\" stroke=\"#000000\" d=\"M1277.8503,-296.9465C1301.1881,-284.4997 1327.4577,-270.4892 1350.3227,-258.2946\"/>\n<polygon fill=\"#000000\" stroke=\"#000000\" points=\"1352.057,-261.3363 1359.2334,-253.5422 1348.7628,-255.1599 1352.057,-261.3363\"/>\n</g>\n<!-- 16 -->\n<g id=\"node17\" class=\"node\">\n<title>16</title>\n<path fill=\"#e68540\" stroke=\"#000000\" d=\"M1324.5,-157C1324.5,-157 1103.5,-157 1103.5,-157 1097.5,-157 1091.5,-151 1091.5,-145 1091.5,-145 1091.5,-101 1091.5,-101 1091.5,-95 1097.5,-89 1103.5,-89 1103.5,-89 1324.5,-89 1324.5,-89 1330.5,-89 1336.5,-95 1336.5,-101 1336.5,-101 1336.5,-145 1336.5,-145 1336.5,-151 1330.5,-157 1324.5,-157\"/>\n<text text-anchor=\"middle\" x=\"1214\" y=\"-141.8\" font-family=\"Helvetica,sans-Serif\" font-size=\"14.00\" fill=\"#000000\">COLI_FEC_NMP/100_mL &lt;= 815.0</text>\n<text text-anchor=\"middle\" x=\"1214\" y=\"-126.8\" font-family=\"Helvetica,sans-Serif\" font-size=\"14.00\" fill=\"#000000\">squared_error = 0.104</text>\n<text text-anchor=\"middle\" x=\"1214\" y=\"-111.8\" font-family=\"Helvetica,sans-Serif\" font-size=\"14.00\" fill=\"#000000\">samples = 170</text>\n<text text-anchor=\"middle\" x=\"1214\" y=\"-96.8\" font-family=\"Helvetica,sans-Serif\" font-size=\"14.00\" fill=\"#000000\">value = 1.882</text>\n</g>\n<!-- 15&#45;&gt;16 -->\n<g id=\"edge16\" class=\"edge\">\n<title>15&#45;&gt;16</title>\n<path fill=\"none\" stroke=\"#000000\" d=\"M1214,-192.9465C1214,-184.776 1214,-175.9318 1214,-167.3697\"/>\n<polygon fill=\"#000000\" stroke=\"#000000\" points=\"1217.5001,-167.13 1214,-157.13 1210.5001,-167.13 1217.5001,-167.13\"/>\n</g>\n<!-- 19 -->\n<g id=\"node20\" class=\"node\">\n<title>19</title>\n<path fill=\"#f4c8a8\" stroke=\"#000000\" d=\"M1487,-149.5C1487,-149.5 1367,-149.5 1367,-149.5 1361,-149.5 1355,-143.5 1355,-137.5 1355,-137.5 1355,-108.5 1355,-108.5 1355,-102.5 1361,-96.5 1367,-96.5 1367,-96.5 1487,-96.5 1487,-96.5 1493,-96.5 1499,-102.5 1499,-108.5 1499,-108.5 1499,-137.5 1499,-137.5 1499,-143.5 1493,-149.5 1487,-149.5\"/>\n<text text-anchor=\"middle\" x=\"1427\" y=\"-134.3\" font-family=\"Helvetica,sans-Serif\" font-size=\"14.00\" fill=\"#000000\">squared_error = 0.0</text>\n<text text-anchor=\"middle\" x=\"1427\" y=\"-119.3\" font-family=\"Helvetica,sans-Serif\" font-size=\"14.00\" fill=\"#000000\">samples = 17</text>\n<text text-anchor=\"middle\" x=\"1427\" y=\"-104.3\" font-family=\"Helvetica,sans-Serif\" font-size=\"14.00\" fill=\"#000000\">value = 1.0</text>\n</g>\n<!-- 15&#45;&gt;19 -->\n<g id=\"edge19\" class=\"edge\">\n<title>15&#45;&gt;19</title>\n<path fill=\"none\" stroke=\"#000000\" d=\"M1283.7442,-192.9465C1309.4618,-180.3895 1338.4389,-166.2411 1363.5685,-153.9712\"/>\n<polygon fill=\"#000000\" stroke=\"#000000\" points=\"1365.1892,-157.0749 1372.6396,-149.5422 1362.1179,-150.7847 1365.1892,-157.0749\"/>\n</g>\n<!-- 17 -->\n<g id=\"node18\" class=\"node\">\n<title>17</title>\n<path fill=\"#e58139\" stroke=\"#000000\" d=\"M1240.5,-53C1240.5,-53 1103.5,-53 1103.5,-53 1097.5,-53 1091.5,-47 1091.5,-41 1091.5,-41 1091.5,-12 1091.5,-12 1091.5,-6 1097.5,0 1103.5,0 1103.5,0 1240.5,0 1240.5,0 1246.5,0 1252.5,-6 1252.5,-12 1252.5,-12 1252.5,-41 1252.5,-41 1252.5,-47 1246.5,-53 1240.5,-53\"/>\n<text text-anchor=\"middle\" x=\"1172\" y=\"-37.8\" font-family=\"Helvetica,sans-Serif\" font-size=\"14.00\" fill=\"#000000\">squared_error = 0.059</text>\n<text text-anchor=\"middle\" x=\"1172\" y=\"-22.8\" font-family=\"Helvetica,sans-Serif\" font-size=\"14.00\" fill=\"#000000\">samples = 160</text>\n<text text-anchor=\"middle\" x=\"1172\" y=\"-7.8\" font-family=\"Helvetica,sans-Serif\" font-size=\"14.00\" fill=\"#000000\">value = 1.938</text>\n</g>\n<!-- 16&#45;&gt;17 -->\n<g id=\"edge17\" class=\"edge\">\n<title>16&#45;&gt;17</title>\n<path fill=\"none\" stroke=\"#000000\" d=\"M1199.1924,-88.9777C1195.4859,-80.4617 1191.4969,-71.2963 1187.7466,-62.6798\"/>\n<polygon fill=\"#000000\" stroke=\"#000000\" points=\"1190.8418,-61.0209 1183.6418,-53.2485 1184.4234,-63.8145 1190.8418,-61.0209\"/>\n</g>\n<!-- 18 -->\n<g id=\"node19\" class=\"node\">\n<title>18</title>\n<path fill=\"#f4c8a8\" stroke=\"#000000\" d=\"M1403,-53C1403,-53 1283,-53 1283,-53 1277,-53 1271,-47 1271,-41 1271,-41 1271,-12 1271,-12 1271,-6 1277,0 1283,0 1283,0 1403,0 1403,0 1409,0 1415,-6 1415,-12 1415,-12 1415,-41 1415,-41 1415,-47 1409,-53 1403,-53\"/>\n<text text-anchor=\"middle\" x=\"1343\" y=\"-37.8\" font-family=\"Helvetica,sans-Serif\" font-size=\"14.00\" fill=\"#000000\">squared_error = 0.0</text>\n<text text-anchor=\"middle\" x=\"1343\" y=\"-22.8\" font-family=\"Helvetica,sans-Serif\" font-size=\"14.00\" fill=\"#000000\">samples = 10</text>\n<text text-anchor=\"middle\" x=\"1343\" y=\"-7.8\" font-family=\"Helvetica,sans-Serif\" font-size=\"14.00\" fill=\"#000000\">value = 1.0</text>\n</g>\n<!-- 16&#45;&gt;18 -->\n<g id=\"edge18\" class=\"edge\">\n<title>16&#45;&gt;18</title>\n<path fill=\"none\" stroke=\"#000000\" d=\"M1259.4806,-88.9777C1272.3335,-79.3629 1286.2931,-68.9203 1299.054,-59.3743\"/>\n<polygon fill=\"#000000\" stroke=\"#000000\" points=\"1301.332,-62.0412 1307.243,-53.2485 1297.139,-56.436 1301.332,-62.0412\"/>\n</g>\n</g>\n</svg>\n"
          },
          "metadata": {},
          "execution_count": 67
        }
      ]
    },
    {
      "cell_type": "code",
      "source": [
        "!dot -Tpng {\"regression_tree.dot\"} -o {\"regression_tree.png\"}"
      ],
      "metadata": {
        "id": "Wy890JIg_qvB"
      },
      "execution_count": 51,
      "outputs": []
    }
  ],
  "metadata": {
    "colab": {
      "provenance": [],
      "include_colab_link": true
    },
    "kernelspec": {
      "display_name": "Python 3.9.7 ('base')",
      "language": "python",
      "name": "python3"
    },
    "language_info": {
      "codemirror_mode": {
        "name": "ipython",
        "version": 3
      },
      "file_extension": ".py",
      "mimetype": "text/x-python",
      "name": "python",
      "nbconvert_exporter": "python",
      "pygments_lexer": "ipython3",
      "version": "3.9.7"
    },
    "vscode": {
      "interpreter": {
        "hash": "482ef1cc97290546481d1edde539c18e5dcbc8392ed390ab825b1665f8314abc"
      }
    }
  },
  "nbformat": 4,
  "nbformat_minor": 0
}